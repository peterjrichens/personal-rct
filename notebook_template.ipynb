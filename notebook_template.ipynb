{
 "cells": [
  {
   "cell_type": "code",
   "execution_count": 36,
   "id": "1cbf7027",
   "metadata": {},
   "outputs": [
    {
     "data": {
      "application/javascript": [
       "\n",
       "            setTimeout(function() {\n",
       "                var nbb_cell_id = 36;\n",
       "                var nbb_unformatted_code = \"%%capture\\nfrom IPython.display import display, Markdown\\nimport time\\nimport pandas as pd\\nimport matplotlib.pyplot as plt\\nimport seaborn as sns\\n\\nimport sys\\nsys.path.append(\\\".src\\\")\\nfrom src.data import utils\\nfrom src.data.fitbit import sleep, activity\\nfrom src.models import ols\\n\\n%load_ext nb_black\\n%matplotlib inline\";\n",
       "                var nbb_formatted_code = \"%%capture\\nfrom IPython.display import display, Markdown\\nimport time\\nimport pandas as pd\\nimport matplotlib.pyplot as plt\\nimport seaborn as sns\\n\\nimport sys\\nsys.path.append(\\\".src\\\")\\nfrom src.data import utils\\nfrom src.data.fitbit import sleep, activity\\nfrom src.models import ols\\n\\n%load_ext nb_black\\n%matplotlib inline\";\n",
       "                var nbb_cells = Jupyter.notebook.get_cells();\n",
       "                for (var i = 0; i < nbb_cells.length; ++i) {\n",
       "                    if (nbb_cells[i].input_prompt_number == nbb_cell_id) {\n",
       "                        if (nbb_cells[i].get_text() == nbb_unformatted_code) {\n",
       "                             nbb_cells[i].set_text(nbb_formatted_code);\n",
       "                        }\n",
       "                        break;\n",
       "                    }\n",
       "                }\n",
       "            }, 500);\n",
       "            "
      ],
      "text/plain": [
       "<IPython.core.display.Javascript object>"
      ]
     },
     "metadata": {},
     "output_type": "display_data"
    }
   ],
   "source": [
    "%%capture\n",
    "from IPython.display import display, Markdown\n",
    "import time\n",
    "import pandas as pd\n",
    "import matplotlib.pyplot as plt\n",
    "import seaborn as sns\n",
    "\n",
    "import sys\n",
    "sys.path.append(\".src\")\n",
    "from src.data import utils\n",
    "from src.data.fitbit import sleep, activity\n",
    "from src.models import ols\n",
    "\n",
    "%load_ext nb_black\n",
    "%matplotlib inline"
   ]
  },
  {
   "cell_type": "code",
   "execution_count": 19,
   "id": "f07ad63b",
   "metadata": {
    "scrolled": true,
    "tags": [
     "parameters"
    ]
   },
   "outputs": [
    {
     "data": {
      "application/javascript": [
       "\n",
       "            setTimeout(function() {\n",
       "                var nbb_cell_id = 19;\n",
       "                var nbb_unformatted_code = \"# Parameters\\nreport = {\\n    \\\"title\\\": \\\"The effect of magnesium supplementation on sleep quality: evidence from my personal activity tracker\\\",\\n    \\\"author\\\": \\\"Peter Richens\\\",\\n    \\\"design\\\": \\\"A blinded randomised trial was conducted on 1 adult male (me). The patient's sleep episodes where randomly allocated into the magnesium or the control group and received 400 mg magnesium citrate or an over-the-counter multivitamin supplement. Sleep activity was tracked by the patient's Fitbit device.\\\",\\n    \\\"keywords\\\": [\\n        \\\"magnesium\\\",\\n        \\\"sleep\\\",\\n        \\\"magnesium supplementation\\\",\\n        \\\"insomnia\\\",\\n        \\\"activity trackers\\\",\\n        \\\"fitbit\\\",\\n    ],\\n    \\\"related_studies\\\": \\\"https://www.connectedpapers.com/main/042fc87490256d934f2b025b6ca6c6115be73404\\\",\\n    \\\"source\\\": \\\"https://github.com/peterjrichens/personal-rct\\\",\\n}\\ndata = {\\n    \\\"source\\\": \\\"fitbit\\\",\\n    \\\"path\\\": \\\"data/MyFitbitData/PeterRichens\\\",\\n    \\\"start_date\\\": \\\"2021-03-11\\\",\\n    \\\"end_date\\\": \\\"2021-05-23\\\",\\n}\\ntreatment = {\\n    \\\"dates\\\": {\\n        \\\"magnesium\\\": [\\n            \\\"2021-04-11\\\",\\n            \\\"2021-04-13\\\",\\n            \\\"2021-04-15\\\",\\n            \\\"2021-04-17\\\",\\n            \\\"2021-04-19\\\",\\n            \\\"2021-04-23\\\",\\n            \\\"2021-04-25\\\",\\n            \\\"2021-04-27\\\",\\n            \\\"2021-04-29\\\",\\n            \\\"2021-05-03\\\",\\n            \\\"2021-05-05\\\",\\n            \\\"2021-05-09\\\",\\n            \\\"2021-05-11\\\",\\n            \\\"2021-05-13\\\",\\n            \\\"2021-05-15\\\",\\n            \\\"2021-05-17\\\",\\n            \\\"2021-05-19\\\",\\n            \\\"2021-05-21\\\",\\n            \\\"2021-05-19\\\",\\n            \\\"2021-05-21\\\",\\n        ],\\n        \\\"multivitamin\\\": [\\n            \\\"2021-04-12\\\",\\n            \\\"2021-04-14\\\",\\n            \\\"2021-04-16\\\",\\n            \\\"2021-04-18\\\",\\n            \\\"2021-04-20\\\",\\n            \\\"2021-04-22\\\",\\n            \\\"2021-04-24\\\",\\n            \\\"2021-04-26\\\",\\n            \\\"2021-04-28\\\",\\n            \\\"2021-04-30\\\",\\n            \\\"2021-05-02\\\",\\n            \\\"2021-05-04\\\",\\n            \\\"2021-05-06\\\",\\n            \\\"2021-05-08\\\",\\n            \\\"2021-05-10\\\",\\n            \\\"2021-05-12\\\",\\n            \\\"2021-05-14\\\",\\n            \\\"2021-05-16\\\",\\n            \\\"2021-05-18\\\",\\n            \\\"2021-05-20\\\",\\n            \\\"2021-05-18\\\",\\n            \\\"2021-05-20\\\",\\n            \\\"2021-05-22\\\",\\n        ],\\n    },\\n    \\\"exclude_dates\\\": [\\\"2021-04-21\\\", \\\"2021-05-01\\\", \\\"2021-05-07\\\"],\\n    \\\"reference\\\": \\\"multivitamin\\\",\\n    \\\"target\\\": \\\"magnesium\\\",\\n}\\nmodel = {\\n    \\\"dependent_variables\\\": [\\n        \\\"composite_sleep_score\\\",\\n        \\\"total_sleep_duration\\\",\\n        \\\"rem_sleep_duration\\\",\\n        \\\"deep_sleep_duration\\\",\\n    ],\\n    \\\"control_variables\\\": [\\\"day_of_week\\\", \\\"sleep_start_time\\\", \\\"steps\\\", \\\"calories\\\"],\\n}\";\n",
       "                var nbb_formatted_code = \"# Parameters\\nreport = {\\n    \\\"title\\\": \\\"The effect of magnesium supplementation on sleep quality: evidence from my personal activity tracker\\\",\\n    \\\"author\\\": \\\"Peter Richens\\\",\\n    \\\"design\\\": \\\"A blinded randomised trial was conducted on 1 adult male (me). The patient's sleep episodes where randomly allocated into the magnesium or the control group and received 400 mg magnesium citrate or an over-the-counter multivitamin supplement. Sleep activity was tracked by the patient's Fitbit device.\\\",\\n    \\\"keywords\\\": [\\n        \\\"magnesium\\\",\\n        \\\"sleep\\\",\\n        \\\"magnesium supplementation\\\",\\n        \\\"insomnia\\\",\\n        \\\"activity trackers\\\",\\n        \\\"fitbit\\\",\\n    ],\\n    \\\"related_studies\\\": \\\"https://www.connectedpapers.com/main/042fc87490256d934f2b025b6ca6c6115be73404\\\",\\n    \\\"source\\\": \\\"https://github.com/peterjrichens/personal-rct\\\",\\n}\\ndata = {\\n    \\\"source\\\": \\\"fitbit\\\",\\n    \\\"path\\\": \\\"data/MyFitbitData/PeterRichens\\\",\\n    \\\"start_date\\\": \\\"2021-03-11\\\",\\n    \\\"end_date\\\": \\\"2021-05-23\\\",\\n}\\ntreatment = {\\n    \\\"dates\\\": {\\n        \\\"magnesium\\\": [\\n            \\\"2021-04-11\\\",\\n            \\\"2021-04-13\\\",\\n            \\\"2021-04-15\\\",\\n            \\\"2021-04-17\\\",\\n            \\\"2021-04-19\\\",\\n            \\\"2021-04-23\\\",\\n            \\\"2021-04-25\\\",\\n            \\\"2021-04-27\\\",\\n            \\\"2021-04-29\\\",\\n            \\\"2021-05-03\\\",\\n            \\\"2021-05-05\\\",\\n            \\\"2021-05-09\\\",\\n            \\\"2021-05-11\\\",\\n            \\\"2021-05-13\\\",\\n            \\\"2021-05-15\\\",\\n            \\\"2021-05-17\\\",\\n            \\\"2021-05-19\\\",\\n            \\\"2021-05-21\\\",\\n            \\\"2021-05-19\\\",\\n            \\\"2021-05-21\\\",\\n        ],\\n        \\\"multivitamin\\\": [\\n            \\\"2021-04-12\\\",\\n            \\\"2021-04-14\\\",\\n            \\\"2021-04-16\\\",\\n            \\\"2021-04-18\\\",\\n            \\\"2021-04-20\\\",\\n            \\\"2021-04-22\\\",\\n            \\\"2021-04-24\\\",\\n            \\\"2021-04-26\\\",\\n            \\\"2021-04-28\\\",\\n            \\\"2021-04-30\\\",\\n            \\\"2021-05-02\\\",\\n            \\\"2021-05-04\\\",\\n            \\\"2021-05-06\\\",\\n            \\\"2021-05-08\\\",\\n            \\\"2021-05-10\\\",\\n            \\\"2021-05-12\\\",\\n            \\\"2021-05-14\\\",\\n            \\\"2021-05-16\\\",\\n            \\\"2021-05-18\\\",\\n            \\\"2021-05-20\\\",\\n            \\\"2021-05-18\\\",\\n            \\\"2021-05-20\\\",\\n            \\\"2021-05-22\\\",\\n        ],\\n    },\\n    \\\"exclude_dates\\\": [\\\"2021-04-21\\\", \\\"2021-05-01\\\", \\\"2021-05-07\\\"],\\n    \\\"reference\\\": \\\"multivitamin\\\",\\n    \\\"target\\\": \\\"magnesium\\\",\\n}\\nmodel = {\\n    \\\"dependent_variables\\\": [\\n        \\\"composite_sleep_score\\\",\\n        \\\"total_sleep_duration\\\",\\n        \\\"rem_sleep_duration\\\",\\n        \\\"deep_sleep_duration\\\",\\n    ],\\n    \\\"control_variables\\\": [\\\"day_of_week\\\", \\\"sleep_start_time\\\", \\\"steps\\\", \\\"calories\\\"],\\n}\";\n",
       "                var nbb_cells = Jupyter.notebook.get_cells();\n",
       "                for (var i = 0; i < nbb_cells.length; ++i) {\n",
       "                    if (nbb_cells[i].input_prompt_number == nbb_cell_id) {\n",
       "                        if (nbb_cells[i].get_text() == nbb_unformatted_code) {\n",
       "                             nbb_cells[i].set_text(nbb_formatted_code);\n",
       "                        }\n",
       "                        break;\n",
       "                    }\n",
       "                }\n",
       "            }, 500);\n",
       "            "
      ],
      "text/plain": [
       "<IPython.core.display.Javascript object>"
      ]
     },
     "metadata": {},
     "output_type": "display_data"
    }
   ],
   "source": [
    "# Parameters\n",
    "report = {\n",
    "    \"title\": \"The effect of magnesium supplementation on sleep quality: evidence from my personal activity tracker\",\n",
    "    \"author\": \"Peter Richens\",\n",
    "    \"design\": \"A blinded randomised trial was conducted on 1 adult male (me). The patient's sleep episodes where randomly allocated into the magnesium or the control group and received 400 mg magnesium citrate or an over-the-counter multivitamin supplement. Sleep activity was tracked by the patient's Fitbit device.\",\n",
    "    \"keywords\": [\n",
    "        \"magnesium\",\n",
    "        \"sleep\",\n",
    "        \"magnesium supplementation\",\n",
    "        \"insomnia\",\n",
    "        \"activity trackers\",\n",
    "        \"fitbit\",\n",
    "    ],\n",
    "    \"related_studies\": \"https://www.connectedpapers.com/main/042fc87490256d934f2b025b6ca6c6115be73404\",\n",
    "    \"source\": \"https://github.com/peterjrichens/personal-rct\",\n",
    "}\n",
    "data = {\n",
    "    \"source\": \"fitbit\",\n",
    "    \"path\": \"data/MyFitbitData/PeterRichens\",\n",
    "    \"start_date\": \"2021-03-11\",\n",
    "    \"end_date\": \"2021-05-23\",\n",
    "}\n",
    "treatment = {\n",
    "    \"dates\": {\n",
    "        \"magnesium\": [\n",
    "            \"2021-04-11\",\n",
    "            \"2021-04-13\",\n",
    "            \"2021-04-15\",\n",
    "            \"2021-04-17\",\n",
    "            \"2021-04-19\",\n",
    "            \"2021-04-23\",\n",
    "            \"2021-04-25\",\n",
    "            \"2021-04-27\",\n",
    "            \"2021-04-29\",\n",
    "            \"2021-05-03\",\n",
    "            \"2021-05-05\",\n",
    "            \"2021-05-09\",\n",
    "            \"2021-05-11\",\n",
    "            \"2021-05-13\",\n",
    "            \"2021-05-15\",\n",
    "            \"2021-05-17\",\n",
    "            \"2021-05-19\",\n",
    "            \"2021-05-21\",\n",
    "            \"2021-05-19\",\n",
    "            \"2021-05-21\",\n",
    "        ],\n",
    "        \"multivitamin\": [\n",
    "            \"2021-04-12\",\n",
    "            \"2021-04-14\",\n",
    "            \"2021-04-16\",\n",
    "            \"2021-04-18\",\n",
    "            \"2021-04-20\",\n",
    "            \"2021-04-22\",\n",
    "            \"2021-04-24\",\n",
    "            \"2021-04-26\",\n",
    "            \"2021-04-28\",\n",
    "            \"2021-04-30\",\n",
    "            \"2021-05-02\",\n",
    "            \"2021-05-04\",\n",
    "            \"2021-05-06\",\n",
    "            \"2021-05-08\",\n",
    "            \"2021-05-10\",\n",
    "            \"2021-05-12\",\n",
    "            \"2021-05-14\",\n",
    "            \"2021-05-16\",\n",
    "            \"2021-05-18\",\n",
    "            \"2021-05-20\",\n",
    "            \"2021-05-18\",\n",
    "            \"2021-05-20\",\n",
    "            \"2021-05-22\",\n",
    "        ],\n",
    "    },\n",
    "    \"exclude_dates\": [\"2021-04-21\", \"2021-05-01\", \"2021-05-07\"],\n",
    "    \"reference\": \"multivitamin\",\n",
    "    \"target\": \"magnesium\",\n",
    "}\n",
    "model = {\n",
    "    \"dependent_variables\": [\n",
    "        \"composite_sleep_score\",\n",
    "        \"total_sleep_duration\",\n",
    "        \"rem_sleep_duration\",\n",
    "        \"deep_sleep_duration\",\n",
    "    ],\n",
    "    \"control_variables\": [\"day_of_week\", \"sleep_start_time\", \"steps\", \"calories\"],\n",
    "}"
   ]
  },
  {
   "cell_type": "code",
   "execution_count": 3,
   "id": "a098a739",
   "metadata": {
    "scrolled": true
   },
   "outputs": [
    {
     "data": {
      "application/javascript": [
       "\n",
       "            setTimeout(function() {\n",
       "                var nbb_cell_id = 3;\n",
       "                var nbb_unformatted_code = \"treatment_df = utils.get_treatment_df(\\n    data[\\\"start_date\\\"], data[\\\"end_date\\\"], treatment\\n).pipe(utils.add_day_of_week)\\n\\nassert data[\\\"source\\\"] == \\\"fitbit\\\"\\n\\nsleep_df = (\\n    utils.load_data(data[\\\"path\\\"], \\\"Sleep/sleep-*.json\\\")\\n    .pipe(sleep.filter_main_sleep)\\n    .pipe(sleep.add_treatment_date)\\n    .pipe(sleep.add_sleep_start_time)\\n    .pipe(sleep.add_total_sleep_duration)\\n    .pipe(sleep.add_stage_duration)\\n    .pipe(sleep.select_columns)\\n    .pipe(utils.validate)\\n)\\n\\nsleep_score_df = utils.load_data(data[\\\"path\\\"], \\\"Sleep/sleep_score.csv\\\").pipe(\\n    sleep.filter_sleep_score\\n)\\n\\nsteps_df = (\\n    utils.load_data(data[\\\"path\\\"], \\\"Physical Activity/steps-*.json\\\")\\n    .pipe(activity.sum_by_treatment_date, \\\"steps\\\")\\n    .pipe(utils.validate)\\n)\\n\\ncalories_df = (\\n    utils.load_data(data[\\\"path\\\"], \\\"Physical Activity/calories-*.json\\\")\\n    .pipe(activity.sum_by_treatment_date, \\\"calories\\\")\\n    .pipe(utils.validate)\\n)\";\n",
       "                var nbb_formatted_code = \"treatment_df = utils.get_treatment_df(\\n    data[\\\"start_date\\\"], data[\\\"end_date\\\"], treatment\\n).pipe(utils.add_day_of_week)\\n\\nassert data[\\\"source\\\"] == \\\"fitbit\\\"\\n\\nsleep_df = (\\n    utils.load_data(data[\\\"path\\\"], \\\"Sleep/sleep-*.json\\\")\\n    .pipe(sleep.filter_main_sleep)\\n    .pipe(sleep.add_treatment_date)\\n    .pipe(sleep.add_sleep_start_time)\\n    .pipe(sleep.add_total_sleep_duration)\\n    .pipe(sleep.add_stage_duration)\\n    .pipe(sleep.select_columns)\\n    .pipe(utils.validate)\\n)\\n\\nsleep_score_df = utils.load_data(data[\\\"path\\\"], \\\"Sleep/sleep_score.csv\\\").pipe(\\n    sleep.filter_sleep_score\\n)\\n\\nsteps_df = (\\n    utils.load_data(data[\\\"path\\\"], \\\"Physical Activity/steps-*.json\\\")\\n    .pipe(activity.sum_by_treatment_date, \\\"steps\\\")\\n    .pipe(utils.validate)\\n)\\n\\ncalories_df = (\\n    utils.load_data(data[\\\"path\\\"], \\\"Physical Activity/calories-*.json\\\")\\n    .pipe(activity.sum_by_treatment_date, \\\"calories\\\")\\n    .pipe(utils.validate)\\n)\";\n",
       "                var nbb_cells = Jupyter.notebook.get_cells();\n",
       "                for (var i = 0; i < nbb_cells.length; ++i) {\n",
       "                    if (nbb_cells[i].input_prompt_number == nbb_cell_id) {\n",
       "                        if (nbb_cells[i].get_text() == nbb_unformatted_code) {\n",
       "                             nbb_cells[i].set_text(nbb_formatted_code);\n",
       "                        }\n",
       "                        break;\n",
       "                    }\n",
       "                }\n",
       "            }, 500);\n",
       "            "
      ],
      "text/plain": [
       "<IPython.core.display.Javascript object>"
      ]
     },
     "metadata": {},
     "output_type": "display_data"
    }
   ],
   "source": [
    "treatment_df = utils.get_treatment_df(\n",
    "    data[\"start_date\"], data[\"end_date\"], treatment\n",
    ").pipe(utils.add_day_of_week)\n",
    "\n",
    "assert data[\"source\"] == \"fitbit\"\n",
    "\n",
    "sleep_df = (\n",
    "    utils.load_data(data[\"path\"], \"Sleep/sleep-*.json\")\n",
    "    .pipe(sleep.filter_main_sleep)\n",
    "    .pipe(sleep.add_treatment_date)\n",
    "    .pipe(sleep.add_sleep_start_time)\n",
    "    .pipe(sleep.add_total_sleep_duration)\n",
    "    .pipe(sleep.add_stage_duration)\n",
    "    .pipe(sleep.select_columns)\n",
    "    .pipe(utils.validate)\n",
    ")\n",
    "\n",
    "sleep_score_df = utils.load_data(data[\"path\"], \"Sleep/sleep_score.csv\").pipe(\n",
    "    sleep.filter_sleep_score\n",
    ")\n",
    "\n",
    "steps_df = (\n",
    "    utils.load_data(data[\"path\"], \"Physical Activity/steps-*.json\")\n",
    "    .pipe(activity.sum_by_treatment_date, \"steps\")\n",
    "    .pipe(utils.validate)\n",
    ")\n",
    "\n",
    "calories_df = (\n",
    "    utils.load_data(data[\"path\"], \"Physical Activity/calories-*.json\")\n",
    "    .pipe(activity.sum_by_treatment_date, \"calories\")\n",
    "    .pipe(utils.validate)\n",
    ")"
   ]
  },
  {
   "cell_type": "code",
   "execution_count": 5,
   "id": "ae2a6670",
   "metadata": {
    "scrolled": true
   },
   "outputs": [
    {
     "data": {
      "application/javascript": [
       "\n",
       "            setTimeout(function() {\n",
       "                var nbb_cell_id = 5;\n",
       "                var nbb_unformatted_code = \"df = (\\n    treatment_df.merge(sleep_df, on=\\\"treatment_date\\\", how=\\\"left\\\")\\n    .merge(sleep_score_df, on=\\\"treatment_date\\\", how=\\\"left\\\")\\n    .merge(steps_df, on=\\\"treatment_date\\\", how=\\\"left\\\")\\n    .merge(calories_df, on=\\\"treatment_date\\\", how=\\\"left\\\")\\n    .pipe(utils.validate)\\n)\";\n",
       "                var nbb_formatted_code = \"df = (\\n    treatment_df.merge(sleep_df, on=\\\"treatment_date\\\", how=\\\"left\\\")\\n    .merge(sleep_score_df, on=\\\"treatment_date\\\", how=\\\"left\\\")\\n    .merge(steps_df, on=\\\"treatment_date\\\", how=\\\"left\\\")\\n    .merge(calories_df, on=\\\"treatment_date\\\", how=\\\"left\\\")\\n    .pipe(utils.validate)\\n)\";\n",
       "                var nbb_cells = Jupyter.notebook.get_cells();\n",
       "                for (var i = 0; i < nbb_cells.length; ++i) {\n",
       "                    if (nbb_cells[i].input_prompt_number == nbb_cell_id) {\n",
       "                        if (nbb_cells[i].get_text() == nbb_unformatted_code) {\n",
       "                             nbb_cells[i].set_text(nbb_formatted_code);\n",
       "                        }\n",
       "                        break;\n",
       "                    }\n",
       "                }\n",
       "            }, 500);\n",
       "            "
      ],
      "text/plain": [
       "<IPython.core.display.Javascript object>"
      ]
     },
     "metadata": {},
     "output_type": "display_data"
    }
   ],
   "source": [
    "df = (\n",
    "    treatment_df.merge(sleep_df, on=\"treatment_date\", how=\"left\")\n",
    "    .merge(sleep_score_df, on=\"treatment_date\", how=\"left\")\n",
    "    .merge(steps_df, on=\"treatment_date\", how=\"left\")\n",
    "    .merge(calories_df, on=\"treatment_date\", how=\"left\")\n",
    "    .pipe(utils.validate)\n",
    ")"
   ]
  },
  {
   "cell_type": "code",
   "execution_count": 6,
   "id": "9bceacec",
   "metadata": {},
   "outputs": [
    {
     "data": {
      "application/javascript": [
       "\n",
       "            setTimeout(function() {\n",
       "                var nbb_cell_id = 6;\n",
       "                var nbb_unformatted_code = \"results = []\\nfor dependent_variable in model[\\\"dependent_variables\\\"]:\\n    formula = ols.build_formula(\\n        df, dependent_variable, treatment, model[\\\"control_variables\\\"]\\n    )\\n    results.append(\\n        ols.result_to_english(ols.fit_model(df, formula), dependent_variable, treatment),\\n    )\";\n",
       "                var nbb_formatted_code = \"results = []\\nfor dependent_variable in model[\\\"dependent_variables\\\"]:\\n    formula = ols.build_formula(\\n        df, dependent_variable, treatment, model[\\\"control_variables\\\"]\\n    )\\n    results.append(\\n        ols.result_to_english(\\n            ols.fit_model(df, formula), dependent_variable, treatment\\n        ),\\n    )\";\n",
       "                var nbb_cells = Jupyter.notebook.get_cells();\n",
       "                for (var i = 0; i < nbb_cells.length; ++i) {\n",
       "                    if (nbb_cells[i].input_prompt_number == nbb_cell_id) {\n",
       "                        if (nbb_cells[i].get_text() == nbb_unformatted_code) {\n",
       "                             nbb_cells[i].set_text(nbb_formatted_code);\n",
       "                        }\n",
       "                        break;\n",
       "                    }\n",
       "                }\n",
       "            }, 500);\n",
       "            "
      ],
      "text/plain": [
       "<IPython.core.display.Javascript object>"
      ]
     },
     "metadata": {},
     "output_type": "display_data"
    }
   ],
   "source": [
    "results = []\n",
    "for dependent_variable in model[\"dependent_variables\"]:\n",
    "    formula = ols.build_formula(\n",
    "        df, dependent_variable, treatment, model[\"control_variables\"]\n",
    "    )\n",
    "    results.append(\n",
    "        ols.result_to_english(\n",
    "            ols.fit_model(df, formula), dependent_variable, treatment\n",
    "        ),\n",
    "    )"
   ]
  },
  {
   "cell_type": "code",
   "execution_count": 20,
   "id": "50f323d2",
   "metadata": {},
   "outputs": [
    {
     "data": {
      "text/markdown": [
       " # The effect of magnesium supplementation on sleep quality: evidence from my personal activity tracker"
      ],
      "text/plain": [
       "<IPython.core.display.Markdown object>"
      ]
     },
     "metadata": {},
     "output_type": "display_data"
    },
    {
     "data": {
      "text/markdown": [
       " \n"
      ],
      "text/plain": [
       "<IPython.core.display.Markdown object>"
      ]
     },
     "metadata": {},
     "output_type": "display_data"
    },
    {
     "data": {
      "text/markdown": [
       " Author: Peter Richens"
      ],
      "text/plain": [
       "<IPython.core.display.Markdown object>"
      ]
     },
     "metadata": {},
     "output_type": "display_data"
    },
    {
     "data": {
      "text/markdown": [
       " Date: 25 May 2021"
      ],
      "text/plain": [
       "<IPython.core.display.Markdown object>"
      ]
     },
     "metadata": {},
     "output_type": "display_data"
    },
    {
     "data": {
      "text/markdown": [
       " Keywords: magnesium, sleep, magnesium supplementation, insomnia, activity trackers, fitbit"
      ],
      "text/plain": [
       "<IPython.core.display.Markdown object>"
      ]
     },
     "metadata": {},
     "output_type": "display_data"
    },
    {
     "data": {
      "text/markdown": [
       " ## Design"
      ],
      "text/plain": [
       "<IPython.core.display.Markdown object>"
      ]
     },
     "metadata": {},
     "output_type": "display_data"
    },
    {
     "data": {
      "text/markdown": [
       " \n"
      ],
      "text/plain": [
       "<IPython.core.display.Markdown object>"
      ]
     },
     "metadata": {},
     "output_type": "display_data"
    },
    {
     "data": {
      "text/markdown": [
       " A blinded randomised trial was conducted on 1 adult male (me). The patient's sleep episodes where randomly allocated into the magnesium or the control group and received 400 mg magnesium citrate or an over-the-counter multivitamin supplement. Sleep activity was tracked by the patient's Fitbit device."
      ],
      "text/plain": [
       "<IPython.core.display.Markdown object>"
      ]
     },
     "metadata": {},
     "output_type": "display_data"
    },
    {
     "data": {
      "text/markdown": [
       " See [related studies](https://www.connectedpapers.com/main/042fc87490256d934f2b025b6ca6c6115be73404)."
      ],
      "text/plain": [
       "<IPython.core.display.Markdown object>"
      ]
     },
     "metadata": {},
     "output_type": "display_data"
    },
    {
     "data": {
      "text/markdown": [
       " Source code available at: https://github.com/peterjrichens/personal-rct."
      ],
      "text/plain": [
       "<IPython.core.display.Markdown object>"
      ]
     },
     "metadata": {},
     "output_type": "display_data"
    },
    {
     "data": {
      "text/markdown": [
       " ## Results"
      ],
      "text/plain": [
       "<IPython.core.display.Markdown object>"
      ]
     },
     "metadata": {},
     "output_type": "display_data"
    },
    {
     "data": {
      "text/markdown": [
       " \n"
      ],
      "text/plain": [
       "<IPython.core.display.Markdown object>"
      ]
     },
     "metadata": {},
     "output_type": "display_data"
    },
    {
     "data": {
      "text/markdown": [
       "* Magnesium had a 0.61 standard deviation decrease on composite sleep score relative to the multivitamin treatment (p value=0.022)."
      ],
      "text/plain": [
       "<IPython.core.display.Markdown object>"
      ]
     },
     "metadata": {},
     "output_type": "display_data"
    },
    {
     "data": {
      "text/markdown": [
       "* Magnesium had a 0.47 standard deviation decrease on total sleep duration relative to the multivitamin treatment (p value=0.036)."
      ],
      "text/plain": [
       "<IPython.core.display.Markdown object>"
      ]
     },
     "metadata": {},
     "output_type": "display_data"
    },
    {
     "data": {
      "text/markdown": [
       "* The effect on rem sleep duration was not statistically signficant."
      ],
      "text/plain": [
       "<IPython.core.display.Markdown object>"
      ]
     },
     "metadata": {},
     "output_type": "display_data"
    },
    {
     "data": {
      "text/markdown": [
       "* The effect on deep sleep duration was not statistically signficant."
      ],
      "text/plain": [
       "<IPython.core.display.Markdown object>"
      ]
     },
     "metadata": {},
     "output_type": "display_data"
    },
    {
     "data": {
      "application/javascript": [
       "\n",
       "            setTimeout(function() {\n",
       "                var nbb_cell_id = 20;\n",
       "                var nbb_unformatted_code = \"display(Markdown(f\\\" # {report['title']}\\\"))\\ndisplay(Markdown(f\\\" \\\\n\\\"))\\n\\ndisplay(Markdown(f\\\" Author: {report['author']}\\\"))\\ndisplay(Markdown(f\\\" Date: {time.strftime('%d %b %Y')}\\\"))\\n\\ndisplay(Markdown(f\\\" Keywords: {', '.join(report['keywords'])}\\\"))\\n\\ndisplay(Markdown(f\\\" ## Design\\\"))\\ndisplay(Markdown(f\\\" \\\\n\\\"))\\ndisplay(Markdown(f\\\" {report['design']}\\\"))\\ndisplay(Markdown(f\\\" See [related studies]({report['related_studies']}).\\\"))\\ndisplay(Markdown(f\\\" Source code available at: {report['source']}.\\\"))\\n\\ndisplay(Markdown(f\\\" ## Results\\\"))\\ndisplay(Markdown(f\\\" \\\\n\\\"))\\nfor result in results:\\n    display(Markdown(f\\\"* {result}\\\"))\";\n",
       "                var nbb_formatted_code = \"display(Markdown(f\\\" # {report['title']}\\\"))\\ndisplay(Markdown(f\\\" \\\\n\\\"))\\n\\ndisplay(Markdown(f\\\" Author: {report['author']}\\\"))\\ndisplay(Markdown(f\\\" Date: {time.strftime('%d %b %Y')}\\\"))\\n\\ndisplay(Markdown(f\\\" Keywords: {', '.join(report['keywords'])}\\\"))\\n\\ndisplay(Markdown(f\\\" ## Design\\\"))\\ndisplay(Markdown(f\\\" \\\\n\\\"))\\ndisplay(Markdown(f\\\" {report['design']}\\\"))\\ndisplay(Markdown(f\\\" See [related studies]({report['related_studies']}).\\\"))\\ndisplay(Markdown(f\\\" Source code available at: {report['source']}.\\\"))\\n\\ndisplay(Markdown(f\\\" ## Results\\\"))\\ndisplay(Markdown(f\\\" \\\\n\\\"))\\nfor result in results:\\n    display(Markdown(f\\\"* {result}\\\"))\";\n",
       "                var nbb_cells = Jupyter.notebook.get_cells();\n",
       "                for (var i = 0; i < nbb_cells.length; ++i) {\n",
       "                    if (nbb_cells[i].input_prompt_number == nbb_cell_id) {\n",
       "                        if (nbb_cells[i].get_text() == nbb_unformatted_code) {\n",
       "                             nbb_cells[i].set_text(nbb_formatted_code);\n",
       "                        }\n",
       "                        break;\n",
       "                    }\n",
       "                }\n",
       "            }, 500);\n",
       "            "
      ],
      "text/plain": [
       "<IPython.core.display.Javascript object>"
      ]
     },
     "metadata": {},
     "output_type": "display_data"
    }
   ],
   "source": [
    "display(Markdown(f\" # {report['title']}\"))\n",
    "display(Markdown(f\" \\n\"))\n",
    "\n",
    "display(Markdown(f\" Author: {report['author']}\"))\n",
    "display(Markdown(f\" Date: {time.strftime('%d %b %Y')}\"))\n",
    "\n",
    "display(Markdown(f\" Keywords: {', '.join(report['keywords'])}\"))\n",
    "\n",
    "display(Markdown(f\" ## Design\"))\n",
    "display(Markdown(f\" \\n\"))\n",
    "display(Markdown(f\" {report['design']}\"))\n",
    "display(Markdown(f\" See [related studies]({report['related_studies']}).\"))\n",
    "display(Markdown(f\" Source code available at: {report['source']}.\"))\n",
    "\n",
    "display(Markdown(f\" ## Results\"))\n",
    "display(Markdown(f\" \\n\"))\n",
    "for result in results:\n",
    "    display(Markdown(f\"* {result}\"))"
   ]
  },
  {
   "cell_type": "markdown",
   "id": "de451ba5",
   "metadata": {},
   "source": [
    "## Sample size"
   ]
  },
  {
   "cell_type": "code",
   "execution_count": 8,
   "id": "1b5dfc9b",
   "metadata": {},
   "outputs": [
    {
     "data": {
      "text/html": [
       "<div>\n",
       "<style scoped>\n",
       "    .dataframe tbody tr th:only-of-type {\n",
       "        vertical-align: middle;\n",
       "    }\n",
       "\n",
       "    .dataframe tbody tr th {\n",
       "        vertical-align: top;\n",
       "    }\n",
       "\n",
       "    .dataframe thead th {\n",
       "        text-align: right;\n",
       "    }\n",
       "</style>\n",
       "<table border=\"1\" class=\"dataframe\">\n",
       "  <thead>\n",
       "    <tr style=\"text-align: right;\">\n",
       "      <th></th>\n",
       "      <th>number_of_days</th>\n",
       "    </tr>\n",
       "  </thead>\n",
       "  <tbody>\n",
       "    <tr>\n",
       "      <th>multivitamin</th>\n",
       "      <td>21</td>\n",
       "    </tr>\n",
       "    <tr>\n",
       "      <th>magnesium</th>\n",
       "      <td>18</td>\n",
       "    </tr>\n",
       "    <tr>\n",
       "      <th>total</th>\n",
       "      <td>39</td>\n",
       "    </tr>\n",
       "  </tbody>\n",
       "</table>\n",
       "</div>"
      ],
      "text/plain": [
       "              number_of_days\n",
       "multivitamin              21\n",
       "magnesium                 18\n",
       "total                     39"
      ]
     },
     "execution_count": 8,
     "metadata": {},
     "output_type": "execute_result"
    },
    {
     "data": {
      "application/javascript": [
       "\n",
       "            setTimeout(function() {\n",
       "                var nbb_cell_id = 8;\n",
       "                var nbb_unformatted_code = \"sample_size = (\\n    df[df.experiment_active]\\n    .treatment.value_counts()\\n    .rename(\\\"number_of_days\\\")\\n    .to_frame()\\n)\\nsample_size.loc[\\\"total\\\"] = sample_size.sum()\\nsample_size\";\n",
       "                var nbb_formatted_code = \"sample_size = (\\n    df[df.experiment_active]\\n    .treatment.value_counts()\\n    .rename(\\\"number_of_days\\\")\\n    .to_frame()\\n)\\nsample_size.loc[\\\"total\\\"] = sample_size.sum()\\nsample_size\";\n",
       "                var nbb_cells = Jupyter.notebook.get_cells();\n",
       "                for (var i = 0; i < nbb_cells.length; ++i) {\n",
       "                    if (nbb_cells[i].input_prompt_number == nbb_cell_id) {\n",
       "                        if (nbb_cells[i].get_text() == nbb_unformatted_code) {\n",
       "                             nbb_cells[i].set_text(nbb_formatted_code);\n",
       "                        }\n",
       "                        break;\n",
       "                    }\n",
       "                }\n",
       "            }, 500);\n",
       "            "
      ],
      "text/plain": [
       "<IPython.core.display.Javascript object>"
      ]
     },
     "metadata": {},
     "output_type": "display_data"
    }
   ],
   "source": [
    "sample_size = (\n",
    "    df[df.experiment_active]\n",
    "    .treatment.value_counts()\n",
    "    .rename(\"number_of_days\")\n",
    "    .to_frame()\n",
    ")\n",
    "sample_size.loc[\"total\"] = sample_size.sum()\n",
    "sample_size"
   ]
  },
  {
   "cell_type": "markdown",
   "id": "eb324436",
   "metadata": {},
   "source": [
    "## Summary statistics during pre-experiment baseline"
   ]
  },
  {
   "cell_type": "code",
   "execution_count": 9,
   "id": "6bb90c1e",
   "metadata": {},
   "outputs": [
    {
     "data": {
      "text/html": [
       "<div>\n",
       "<style scoped>\n",
       "    .dataframe tbody tr th:only-of-type {\n",
       "        vertical-align: middle;\n",
       "    }\n",
       "\n",
       "    .dataframe tbody tr th {\n",
       "        vertical-align: top;\n",
       "    }\n",
       "\n",
       "    .dataframe thead th {\n",
       "        text-align: right;\n",
       "    }\n",
       "</style>\n",
       "<table border=\"1\" class=\"dataframe\">\n",
       "  <thead>\n",
       "    <tr style=\"text-align: right;\">\n",
       "      <th></th>\n",
       "      <th>count</th>\n",
       "      <th>mean</th>\n",
       "      <th>std</th>\n",
       "      <th>min</th>\n",
       "      <th>25%</th>\n",
       "      <th>50%</th>\n",
       "      <th>75%</th>\n",
       "      <th>max</th>\n",
       "    </tr>\n",
       "  </thead>\n",
       "  <tbody>\n",
       "    <tr>\n",
       "      <th>total_sleep_duration</th>\n",
       "      <td>31.0</td>\n",
       "      <td>455.096774</td>\n",
       "      <td>46.125448</td>\n",
       "      <td>351.00</td>\n",
       "      <td>432.50</td>\n",
       "      <td>461.0</td>\n",
       "      <td>483.50</td>\n",
       "      <td>538.00</td>\n",
       "    </tr>\n",
       "    <tr>\n",
       "      <th>deep_sleep_duration</th>\n",
       "      <td>31.0</td>\n",
       "      <td>74.064516</td>\n",
       "      <td>14.897283</td>\n",
       "      <td>42.00</td>\n",
       "      <td>62.00</td>\n",
       "      <td>76.0</td>\n",
       "      <td>82.00</td>\n",
       "      <td>101.00</td>\n",
       "    </tr>\n",
       "    <tr>\n",
       "      <th>rem_sleep_duration</th>\n",
       "      <td>31.0</td>\n",
       "      <td>88.645161</td>\n",
       "      <td>27.983982</td>\n",
       "      <td>36.00</td>\n",
       "      <td>73.50</td>\n",
       "      <td>88.0</td>\n",
       "      <td>107.00</td>\n",
       "      <td>140.00</td>\n",
       "    </tr>\n",
       "    <tr>\n",
       "      <th>sleep_start_time</th>\n",
       "      <td>31.0</td>\n",
       "      <td>-10.241935</td>\n",
       "      <td>57.244777</td>\n",
       "      <td>-150.00</td>\n",
       "      <td>-43.25</td>\n",
       "      <td>-16.0</td>\n",
       "      <td>14.50</td>\n",
       "      <td>132.00</td>\n",
       "    </tr>\n",
       "    <tr>\n",
       "      <th>composite_sleep_score</th>\n",
       "      <td>31.0</td>\n",
       "      <td>79.322581</td>\n",
       "      <td>6.640216</td>\n",
       "      <td>63.00</td>\n",
       "      <td>77.00</td>\n",
       "      <td>81.0</td>\n",
       "      <td>83.00</td>\n",
       "      <td>89.00</td>\n",
       "    </tr>\n",
       "    <tr>\n",
       "      <th>steps</th>\n",
       "      <td>31.0</td>\n",
       "      <td>4580.032258</td>\n",
       "      <td>2423.843277</td>\n",
       "      <td>1201.00</td>\n",
       "      <td>2426.00</td>\n",
       "      <td>3850.0</td>\n",
       "      <td>6294.00</td>\n",
       "      <td>12022.00</td>\n",
       "    </tr>\n",
       "    <tr>\n",
       "      <th>calories</th>\n",
       "      <td>31.0</td>\n",
       "      <td>2259.266129</td>\n",
       "      <td>192.678554</td>\n",
       "      <td>1835.01</td>\n",
       "      <td>2139.78</td>\n",
       "      <td>2233.0</td>\n",
       "      <td>2384.74</td>\n",
       "      <td>2739.58</td>\n",
       "    </tr>\n",
       "  </tbody>\n",
       "</table>\n",
       "</div>"
      ],
      "text/plain": [
       "                       count         mean          std      min      25%  \\\n",
       "total_sleep_duration    31.0   455.096774    46.125448   351.00   432.50   \n",
       "deep_sleep_duration     31.0    74.064516    14.897283    42.00    62.00   \n",
       "rem_sleep_duration      31.0    88.645161    27.983982    36.00    73.50   \n",
       "sleep_start_time        31.0   -10.241935    57.244777  -150.00   -43.25   \n",
       "composite_sleep_score   31.0    79.322581     6.640216    63.00    77.00   \n",
       "steps                   31.0  4580.032258  2423.843277  1201.00  2426.00   \n",
       "calories                31.0  2259.266129   192.678554  1835.01  2139.78   \n",
       "\n",
       "                          50%      75%       max  \n",
       "total_sleep_duration    461.0   483.50    538.00  \n",
       "deep_sleep_duration      76.0    82.00    101.00  \n",
       "rem_sleep_duration       88.0   107.00    140.00  \n",
       "sleep_start_time        -16.0    14.50    132.00  \n",
       "composite_sleep_score    81.0    83.00     89.00  \n",
       "steps                  3850.0  6294.00  12022.00  \n",
       "calories               2233.0  2384.74   2739.58  "
      ]
     },
     "execution_count": 9,
     "metadata": {},
     "output_type": "execute_result"
    },
    {
     "data": {
      "application/javascript": [
       "\n",
       "            setTimeout(function() {\n",
       "                var nbb_cell_id = 9;\n",
       "                var nbb_unformatted_code = \"df[df.experiment_active == False].describe().transpose()\";\n",
       "                var nbb_formatted_code = \"df[df.experiment_active == False].describe().transpose()\";\n",
       "                var nbb_cells = Jupyter.notebook.get_cells();\n",
       "                for (var i = 0; i < nbb_cells.length; ++i) {\n",
       "                    if (nbb_cells[i].input_prompt_number == nbb_cell_id) {\n",
       "                        if (nbb_cells[i].get_text() == nbb_unformatted_code) {\n",
       "                             nbb_cells[i].set_text(nbb_formatted_code);\n",
       "                        }\n",
       "                        break;\n",
       "                    }\n",
       "                }\n",
       "            }, 500);\n",
       "            "
      ],
      "text/plain": [
       "<IPython.core.display.Javascript object>"
      ]
     },
     "metadata": {},
     "output_type": "display_data"
    }
   ],
   "source": [
    "df[df.experiment_active == False].describe().transpose()"
   ]
  },
  {
   "cell_type": "markdown",
   "id": "c5c35650",
   "metadata": {},
   "source": [
    "## Summary statistics during experiment period"
   ]
  },
  {
   "cell_type": "code",
   "execution_count": 10,
   "id": "0d2411b7",
   "metadata": {},
   "outputs": [
    {
     "data": {
      "text/html": [
       "<div>\n",
       "<style scoped>\n",
       "    .dataframe tbody tr th:only-of-type {\n",
       "        vertical-align: middle;\n",
       "    }\n",
       "\n",
       "    .dataframe tbody tr th {\n",
       "        vertical-align: top;\n",
       "    }\n",
       "\n",
       "    .dataframe thead th {\n",
       "        text-align: right;\n",
       "    }\n",
       "</style>\n",
       "<table border=\"1\" class=\"dataframe\">\n",
       "  <thead>\n",
       "    <tr style=\"text-align: right;\">\n",
       "      <th></th>\n",
       "      <th>count</th>\n",
       "      <th>mean</th>\n",
       "      <th>std</th>\n",
       "      <th>min</th>\n",
       "      <th>25%</th>\n",
       "      <th>50%</th>\n",
       "      <th>75%</th>\n",
       "      <th>max</th>\n",
       "    </tr>\n",
       "  </thead>\n",
       "  <tbody>\n",
       "    <tr>\n",
       "      <th>total_sleep_duration</th>\n",
       "      <td>39.0</td>\n",
       "      <td>469.333333</td>\n",
       "      <td>34.868424</td>\n",
       "      <td>403.00</td>\n",
       "      <td>449.500</td>\n",
       "      <td>462.00</td>\n",
       "      <td>487.5</td>\n",
       "      <td>555.00</td>\n",
       "    </tr>\n",
       "    <tr>\n",
       "      <th>deep_sleep_duration</th>\n",
       "      <td>39.0</td>\n",
       "      <td>74.230769</td>\n",
       "      <td>20.303567</td>\n",
       "      <td>22.00</td>\n",
       "      <td>62.000</td>\n",
       "      <td>73.00</td>\n",
       "      <td>87.5</td>\n",
       "      <td>118.00</td>\n",
       "    </tr>\n",
       "    <tr>\n",
       "      <th>rem_sleep_duration</th>\n",
       "      <td>39.0</td>\n",
       "      <td>110.666667</td>\n",
       "      <td>29.720924</td>\n",
       "      <td>45.00</td>\n",
       "      <td>89.000</td>\n",
       "      <td>112.00</td>\n",
       "      <td>132.5</td>\n",
       "      <td>178.00</td>\n",
       "    </tr>\n",
       "    <tr>\n",
       "      <th>sleep_start_time</th>\n",
       "      <td>39.0</td>\n",
       "      <td>-42.435897</td>\n",
       "      <td>45.255732</td>\n",
       "      <td>-120.50</td>\n",
       "      <td>-75.000</td>\n",
       "      <td>-47.50</td>\n",
       "      <td>-19.5</td>\n",
       "      <td>99.50</td>\n",
       "    </tr>\n",
       "    <tr>\n",
       "      <th>composite_sleep_score</th>\n",
       "      <td>39.0</td>\n",
       "      <td>81.230769</td>\n",
       "      <td>5.193425</td>\n",
       "      <td>68.00</td>\n",
       "      <td>78.000</td>\n",
       "      <td>82.00</td>\n",
       "      <td>85.0</td>\n",
       "      <td>90.00</td>\n",
       "    </tr>\n",
       "    <tr>\n",
       "      <th>steps</th>\n",
       "      <td>39.0</td>\n",
       "      <td>5077.358974</td>\n",
       "      <td>2714.442935</td>\n",
       "      <td>1450.00</td>\n",
       "      <td>2532.500</td>\n",
       "      <td>5056.00</td>\n",
       "      <td>7160.5</td>\n",
       "      <td>12205.00</td>\n",
       "    </tr>\n",
       "    <tr>\n",
       "      <th>calories</th>\n",
       "      <td>39.0</td>\n",
       "      <td>2316.572308</td>\n",
       "      <td>254.479274</td>\n",
       "      <td>1884.07</td>\n",
       "      <td>2123.755</td>\n",
       "      <td>2302.92</td>\n",
       "      <td>2474.2</td>\n",
       "      <td>3283.53</td>\n",
       "    </tr>\n",
       "  </tbody>\n",
       "</table>\n",
       "</div>"
      ],
      "text/plain": [
       "                       count         mean          std      min       25%  \\\n",
       "total_sleep_duration    39.0   469.333333    34.868424   403.00   449.500   \n",
       "deep_sleep_duration     39.0    74.230769    20.303567    22.00    62.000   \n",
       "rem_sleep_duration      39.0   110.666667    29.720924    45.00    89.000   \n",
       "sleep_start_time        39.0   -42.435897    45.255732  -120.50   -75.000   \n",
       "composite_sleep_score   39.0    81.230769     5.193425    68.00    78.000   \n",
       "steps                   39.0  5077.358974  2714.442935  1450.00  2532.500   \n",
       "calories                39.0  2316.572308   254.479274  1884.07  2123.755   \n",
       "\n",
       "                           50%     75%       max  \n",
       "total_sleep_duration    462.00   487.5    555.00  \n",
       "deep_sleep_duration      73.00    87.5    118.00  \n",
       "rem_sleep_duration      112.00   132.5    178.00  \n",
       "sleep_start_time        -47.50   -19.5     99.50  \n",
       "composite_sleep_score    82.00    85.0     90.00  \n",
       "steps                  5056.00  7160.5  12205.00  \n",
       "calories               2302.92  2474.2   3283.53  "
      ]
     },
     "execution_count": 10,
     "metadata": {},
     "output_type": "execute_result"
    },
    {
     "data": {
      "application/javascript": [
       "\n",
       "            setTimeout(function() {\n",
       "                var nbb_cell_id = 10;\n",
       "                var nbb_unformatted_code = \"df[df.experiment_active].describe().transpose()\";\n",
       "                var nbb_formatted_code = \"df[df.experiment_active].describe().transpose()\";\n",
       "                var nbb_cells = Jupyter.notebook.get_cells();\n",
       "                for (var i = 0; i < nbb_cells.length; ++i) {\n",
       "                    if (nbb_cells[i].input_prompt_number == nbb_cell_id) {\n",
       "                        if (nbb_cells[i].get_text() == nbb_unformatted_code) {\n",
       "                             nbb_cells[i].set_text(nbb_formatted_code);\n",
       "                        }\n",
       "                        break;\n",
       "                    }\n",
       "                }\n",
       "            }, 500);\n",
       "            "
      ],
      "text/plain": [
       "<IPython.core.display.Javascript object>"
      ]
     },
     "metadata": {},
     "output_type": "display_data"
    }
   ],
   "source": [
    "df[df.experiment_active].describe().transpose()"
   ]
  },
  {
   "cell_type": "markdown",
   "id": "8803e704",
   "metadata": {},
   "source": [
    "## Outcome variables over time\n",
    "\n",
    "Red line shows start of experiment period."
   ]
  },
  {
   "cell_type": "code",
   "execution_count": 13,
   "id": "6cf659d8",
   "metadata": {
    "scrolled": false
   },
   "outputs": [
    {
     "data": {
      "image/png": "[encoded data removed]",
      "text/plain": [
       "<Figure size 1080x1152 with 4 Axes>"
      ]
     },
     "metadata": {
      "needs_background": "light"
     },
     "output_type": "display_data"
    },
    {
     "data": {
      "application/javascript": [
       "\n",
       "            setTimeout(function() {\n",
       "                var nbb_cell_id = 13;\n",
       "                var nbb_unformatted_code = \"num_plots = len(model[\\\"dependent_variables\\\"])\\ndims = (15, 4 * num_plots)\\n_, axes = plt.subplots(num_plots, figsize=dims, sharex=True)\\nfor ax, v in zip(axes, model[\\\"dependent_variables\\\"]):\\n    g = sns.lineplot(\\\"treatment_date\\\", v, data=df, ax=ax)\\n    g = g.set(ylim=(0, df[v].max()*1.2))\\n    ax.axvline(df[df.experiment_active].treatment_date.min(), c='r')\";\n",
       "                var nbb_formatted_code = \"num_plots = len(model[\\\"dependent_variables\\\"])\\ndims = (15, 4 * num_plots)\\n_, axes = plt.subplots(num_plots, figsize=dims, sharex=True)\\nfor ax, v in zip(axes, model[\\\"dependent_variables\\\"]):\\n    g = sns.lineplot(\\\"treatment_date\\\", v, data=df, ax=ax)\\n    g = g.set(ylim=(0, df[v].max() * 1.2))\\n    ax.axvline(df[df.experiment_active].treatment_date.min(), c=\\\"r\\\")\";\n",
       "                var nbb_cells = Jupyter.notebook.get_cells();\n",
       "                for (var i = 0; i < nbb_cells.length; ++i) {\n",
       "                    if (nbb_cells[i].input_prompt_number == nbb_cell_id) {\n",
       "                        if (nbb_cells[i].get_text() == nbb_unformatted_code) {\n",
       "                             nbb_cells[i].set_text(nbb_formatted_code);\n",
       "                        }\n",
       "                        break;\n",
       "                    }\n",
       "                }\n",
       "            }, 500);\n",
       "            "
      ],
      "text/plain": [
       "<IPython.core.display.Javascript object>"
      ]
     },
     "metadata": {},
     "output_type": "display_data"
    }
   ],
   "source": [
    "num_plots = len(model[\"dependent_variables\"])\n",
    "dims = (15, 4 * num_plots)\n",
    "_, axes = plt.subplots(num_plots, figsize=dims, sharex=True)\n",
    "for ax, v in zip(axes, model[\"dependent_variables\"]):\n",
    "    g = sns.lineplot(\"treatment_date\", v, data=df, ax=ax)\n",
    "    g = g.set(ylim=(0, df[v].max()*1.2))\n",
    "    ax.axvline(df[df.experiment_active].treatment_date.min(), c='r')\n"
   ]
  },
  {
   "cell_type": "markdown",
   "id": "d3bbba4a",
   "metadata": {},
   "source": [
    "## Regression results"
   ]
  },
  {
   "cell_type": "code",
   "execution_count": 37,
   "id": "f9166dbc",
   "metadata": {
    "scrolled": false
   },
   "outputs": [
    {
     "data": {
      "text/markdown": [
       "### Results for composite sleep score"
      ],
      "text/plain": [
       "<IPython.core.display.Markdown object>"
      ]
     },
     "metadata": {},
     "output_type": "display_data"
    },
    {
     "data": {
      "text/markdown": [
       "Magnesium had a 0.61 standard deviation decrease on composite sleep score relative to the multivitamin treatment (p value=0.022)."
      ],
      "text/plain": [
       "<IPython.core.display.Markdown object>"
      ]
     },
     "metadata": {},
     "output_type": "display_data"
    },
    {
     "data": {
      "text/html": [
       "<table class=\"simpletable\">\n",
       "<caption>OLS Regression Results</caption>\n",
       "<tr>\n",
       "  <th>Dep. Variable:</th>    <td>standardize(composite_sleep_score)</td> <th>  R-squared:         </th> <td>   0.481</td>\n",
       "</tr>\n",
       "<tr>\n",
       "  <th>Model:</th>                            <td>OLS</td>                <th>  Adj. R-squared:    </th> <td>   0.296</td>\n",
       "</tr>\n",
       "<tr>\n",
       "  <th>Method:</th>                      <td>Least Squares</td>           <th>  F-statistic:       </th> <td>   6.673</td>\n",
       "</tr>\n",
       "<tr>\n",
       "  <th>Date:</th>                      <td>Tue, 25 May 2021</td>          <th>  Prob (F-statistic):</th> <td>3.28e-05</td>\n",
       "</tr>\n",
       "<tr>\n",
       "  <th>Time:</th>                          <td>10:08:27</td>              <th>  Log-Likelihood:    </th> <td> -42.544</td>\n",
       "</tr>\n",
       "<tr>\n",
       "  <th>No. Observations:</th>               <td>    39</td>               <th>  AIC:               </th> <td>   107.1</td>\n",
       "</tr>\n",
       "<tr>\n",
       "  <th>Df Residuals:</th>                   <td>    28</td>               <th>  BIC:               </th> <td>   125.4</td>\n",
       "</tr>\n",
       "<tr>\n",
       "  <th>Df Model:</th>                       <td>    10</td>               <th>                     </th>     <td> </td>   \n",
       "</tr>\n",
       "<tr>\n",
       "  <th>Covariance Type:</th>                  <td>HAC</td>                <th>                     </th>     <td> </td>   \n",
       "</tr>\n",
       "</table>\n",
       "<table class=\"simpletable\">\n",
       "<tr>\n",
       "                                 <td></td>                                   <th>coef</th>     <th>std err</th>      <th>z</th>      <th>P>|z|</th>  <th>[0.025</th>    <th>0.975]</th>  \n",
       "</tr>\n",
       "<tr>\n",
       "  <th>Intercept</th>                                                      <td>    0.1803</td> <td>    0.556</td> <td>    0.324</td> <td> 0.746</td> <td>   -0.909</td> <td>    1.270</td>\n",
       "</tr>\n",
       "<tr>\n",
       "  <th>C(treatment, Treatment(reference='multivitamin'))[T.magnesium]</th> <td>   -0.6064</td> <td>    0.266</td> <td>   -2.283</td> <td> 0.022</td> <td>   -1.127</td> <td>   -0.086</td>\n",
       "</tr>\n",
       "<tr>\n",
       "  <th>C(day_of_week)[T.Monday]</th>                                       <td>   -0.5101</td> <td>    0.557</td> <td>   -0.916</td> <td> 0.360</td> <td>   -1.602</td> <td>    0.582</td>\n",
       "</tr>\n",
       "<tr>\n",
       "  <th>C(day_of_week)[T.Saturday]</th>                                     <td>    0.6945</td> <td>    0.875</td> <td>    0.794</td> <td> 0.427</td> <td>   -1.020</td> <td>    2.409</td>\n",
       "</tr>\n",
       "<tr>\n",
       "  <th>C(day_of_week)[T.Sunday]</th>                                       <td>    0.3510</td> <td>    0.711</td> <td>    0.494</td> <td> 0.621</td> <td>   -1.042</td> <td>    1.744</td>\n",
       "</tr>\n",
       "<tr>\n",
       "  <th>C(day_of_week)[T.Thursday]</th>                                     <td>   -0.8519</td> <td>    0.655</td> <td>   -1.301</td> <td> 0.193</td> <td>   -2.135</td> <td>    0.431</td>\n",
       "</tr>\n",
       "<tr>\n",
       "  <th>C(day_of_week)[T.Tuesday]</th>                                      <td>    1.1999</td> <td>    0.501</td> <td>    2.394</td> <td> 0.017</td> <td>    0.218</td> <td>    2.182</td>\n",
       "</tr>\n",
       "<tr>\n",
       "  <th>C(day_of_week)[T.Wednesday]</th>                                    <td>   -0.1440</td> <td>    0.696</td> <td>   -0.207</td> <td> 0.836</td> <td>   -1.508</td> <td>    1.220</td>\n",
       "</tr>\n",
       "<tr>\n",
       "  <th>standardize(sleep_start_time)</th>                                  <td>   -0.0616</td> <td>    0.265</td> <td>   -0.232</td> <td> 0.816</td> <td>   -0.582</td> <td>    0.458</td>\n",
       "</tr>\n",
       "<tr>\n",
       "  <th>standardize(steps)</th>                                             <td>    0.2548</td> <td>    0.206</td> <td>    1.234</td> <td> 0.217</td> <td>   -0.150</td> <td>    0.659</td>\n",
       "</tr>\n",
       "<tr>\n",
       "  <th>standardize(calories)</th>                                          <td>   -0.2180</td> <td>    0.223</td> <td>   -0.976</td> <td> 0.329</td> <td>   -0.656</td> <td>    0.220</td>\n",
       "</tr>\n",
       "</table>\n",
       "<table class=\"simpletable\">\n",
       "<tr>\n",
       "  <th>Omnibus:</th>       <td> 1.416</td> <th>  Durbin-Watson:     </th> <td>   1.808</td>\n",
       "</tr>\n",
       "<tr>\n",
       "  <th>Prob(Omnibus):</th> <td> 0.493</td> <th>  Jarque-Bera (JB):  </th> <td>   1.223</td>\n",
       "</tr>\n",
       "<tr>\n",
       "  <th>Skew:</th>          <td>-0.259</td> <th>  Prob(JB):          </th> <td>   0.543</td>\n",
       "</tr>\n",
       "<tr>\n",
       "  <th>Kurtosis:</th>      <td> 2.304</td> <th>  Cond. No.          </th> <td>    13.8</td>\n",
       "</tr>\n",
       "</table><br/><br/>Notes:<br/>[1] Standard Errors are heteroscedasticity and autocorrelation robust (HAC) using 1 lags and without small sample correction"
      ],
      "text/plain": [
       "<class 'statsmodels.iolib.summary.Summary'>\n",
       "\"\"\"\n",
       "                                    OLS Regression Results                                    \n",
       "==============================================================================================\n",
       "Dep. Variable:     standardize(composite_sleep_score)   R-squared:                       0.481\n",
       "Model:                                            OLS   Adj. R-squared:                  0.296\n",
       "Method:                                 Least Squares   F-statistic:                     6.673\n",
       "Date:                                Tue, 25 May 2021   Prob (F-statistic):           3.28e-05\n",
       "Time:                                        10:08:27   Log-Likelihood:                -42.544\n",
       "No. Observations:                                  39   AIC:                             107.1\n",
       "Df Residuals:                                      28   BIC:                             125.4\n",
       "Df Model:                                          10                                         \n",
       "Covariance Type:                                  HAC                                         \n",
       "==================================================================================================================================\n",
       "                                                                     coef    std err          z      P>|z|      [0.025      0.975]\n",
       "----------------------------------------------------------------------------------------------------------------------------------\n",
       "Intercept                                                          0.1803      0.556      0.324      0.746      -0.909       1.270\n",
       "C(treatment, Treatment(reference='multivitamin'))[T.magnesium]    -0.6064      0.266     -2.283      0.022      -1.127      -0.086\n",
       "C(day_of_week)[T.Monday]                                          -0.5101      0.557     -0.916      0.360      -1.602       0.582\n",
       "C(day_of_week)[T.Saturday]                                         0.6945      0.875      0.794      0.427      -1.020       2.409\n",
       "C(day_of_week)[T.Sunday]                                           0.3510      0.711      0.494      0.621      -1.042       1.744\n",
       "C(day_of_week)[T.Thursday]                                        -0.8519      0.655     -1.301      0.193      -2.135       0.431\n",
       "C(day_of_week)[T.Tuesday]                                          1.1999      0.501      2.394      0.017       0.218       2.182\n",
       "C(day_of_week)[T.Wednesday]                                       -0.1440      0.696     -0.207      0.836      -1.508       1.220\n",
       "standardize(sleep_start_time)                                     -0.0616      0.265     -0.232      0.816      -0.582       0.458\n",
       "standardize(steps)                                                 0.2548      0.206      1.234      0.217      -0.150       0.659\n",
       "standardize(calories)                                             -0.2180      0.223     -0.976      0.329      -0.656       0.220\n",
       "==============================================================================\n",
       "Omnibus:                        1.416   Durbin-Watson:                   1.808\n",
       "Prob(Omnibus):                  0.493   Jarque-Bera (JB):                1.223\n",
       "Skew:                          -0.259   Prob(JB):                        0.543\n",
       "Kurtosis:                       2.304   Cond. No.                         13.8\n",
       "==============================================================================\n",
       "\n",
       "Notes:\n",
       "[1] Standard Errors are heteroscedasticity and autocorrelation robust (HAC) using 1 lags and without small sample correction\n",
       "\"\"\""
      ]
     },
     "metadata": {},
     "output_type": "display_data"
    },
    {
     "data": {
      "text/markdown": [
       "### Results for total sleep duration"
      ],
      "text/plain": [
       "<IPython.core.display.Markdown object>"
      ]
     },
     "metadata": {},
     "output_type": "display_data"
    },
    {
     "data": {
      "text/markdown": [
       "Magnesium had a 0.47 standard deviation decrease on total sleep duration relative to the multivitamin treatment (p value=0.036)."
      ],
      "text/plain": [
       "<IPython.core.display.Markdown object>"
      ]
     },
     "metadata": {},
     "output_type": "display_data"
    },
    {
     "data": {
      "text/html": [
       "<table class=\"simpletable\">\n",
       "<caption>OLS Regression Results</caption>\n",
       "<tr>\n",
       "  <th>Dep. Variable:</th>    <td>standardize(total_sleep_duration)</td> <th>  R-squared:         </th> <td>   0.240</td>\n",
       "</tr>\n",
       "<tr>\n",
       "  <th>Model:</th>                           <td>OLS</td>                <th>  Adj. R-squared:    </th> <td>  -0.032</td>\n",
       "</tr>\n",
       "<tr>\n",
       "  <th>Method:</th>                     <td>Least Squares</td>           <th>  F-statistic:       </th> <td>   3.403</td>\n",
       "</tr>\n",
       "<tr>\n",
       "  <th>Date:</th>                     <td>Tue, 25 May 2021</td>          <th>  Prob (F-statistic):</th>  <td>0.00508</td>\n",
       "</tr>\n",
       "<tr>\n",
       "  <th>Time:</th>                         <td>10:08:27</td>              <th>  Log-Likelihood:    </th> <td> -49.997</td>\n",
       "</tr>\n",
       "<tr>\n",
       "  <th>No. Observations:</th>              <td>    39</td>               <th>  AIC:               </th> <td>   122.0</td>\n",
       "</tr>\n",
       "<tr>\n",
       "  <th>Df Residuals:</th>                  <td>    28</td>               <th>  BIC:               </th> <td>   140.3</td>\n",
       "</tr>\n",
       "<tr>\n",
       "  <th>Df Model:</th>                      <td>    10</td>               <th>                     </th>     <td> </td>   \n",
       "</tr>\n",
       "<tr>\n",
       "  <th>Covariance Type:</th>                 <td>HAC</td>                <th>                     </th>     <td> </td>   \n",
       "</tr>\n",
       "</table>\n",
       "<table class=\"simpletable\">\n",
       "<tr>\n",
       "                                 <td></td>                                   <th>coef</th>     <th>std err</th>      <th>z</th>      <th>P>|z|</th>  <th>[0.025</th>    <th>0.975]</th>  \n",
       "</tr>\n",
       "<tr>\n",
       "  <th>Intercept</th>                                                      <td>    0.3586</td> <td>    0.255</td> <td>    1.406</td> <td> 0.160</td> <td>   -0.141</td> <td>    0.859</td>\n",
       "</tr>\n",
       "<tr>\n",
       "  <th>C(treatment, Treatment(reference='multivitamin'))[T.magnesium]</th> <td>   -0.4653</td> <td>    0.222</td> <td>   -2.093</td> <td> 0.036</td> <td>   -0.901</td> <td>   -0.030</td>\n",
       "</tr>\n",
       "<tr>\n",
       "  <th>C(day_of_week)[T.Monday]</th>                                       <td>   -0.3340</td> <td>    0.504</td> <td>   -0.662</td> <td> 0.508</td> <td>   -1.322</td> <td>    0.654</td>\n",
       "</tr>\n",
       "<tr>\n",
       "  <th>C(day_of_week)[T.Saturday]</th>                                     <td>   -0.0439</td> <td>    0.577</td> <td>   -0.076</td> <td> 0.939</td> <td>   -1.175</td> <td>    1.087</td>\n",
       "</tr>\n",
       "<tr>\n",
       "  <th>C(day_of_week)[T.Sunday]</th>                                       <td>   -0.0802</td> <td>    0.428</td> <td>   -0.187</td> <td> 0.852</td> <td>   -0.920</td> <td>    0.760</td>\n",
       "</tr>\n",
       "<tr>\n",
       "  <th>C(day_of_week)[T.Thursday]</th>                                     <td>   -0.5838</td> <td>    0.638</td> <td>   -0.916</td> <td> 0.360</td> <td>   -1.833</td> <td>    0.666</td>\n",
       "</tr>\n",
       "<tr>\n",
       "  <th>C(day_of_week)[T.Tuesday]</th>                                      <td>    0.3578</td> <td>    0.498</td> <td>    0.719</td> <td> 0.472</td> <td>   -0.618</td> <td>    1.334</td>\n",
       "</tr>\n",
       "<tr>\n",
       "  <th>C(day_of_week)[T.Wednesday]</th>                                    <td>   -0.3098</td> <td>    0.385</td> <td>   -0.804</td> <td> 0.421</td> <td>   -1.065</td> <td>    0.445</td>\n",
       "</tr>\n",
       "<tr>\n",
       "  <th>standardize(sleep_start_time)</th>                                  <td>   -0.4793</td> <td>    0.185</td> <td>   -2.586</td> <td> 0.010</td> <td>   -0.843</td> <td>   -0.116</td>\n",
       "</tr>\n",
       "<tr>\n",
       "  <th>standardize(steps)</th>                                             <td>   -0.0132</td> <td>    0.209</td> <td>   -0.063</td> <td> 0.949</td> <td>   -0.422</td> <td>    0.396</td>\n",
       "</tr>\n",
       "<tr>\n",
       "  <th>standardize(calories)</th>                                          <td>    0.1083</td> <td>    0.223</td> <td>    0.487</td> <td> 0.626</td> <td>   -0.328</td> <td>    0.544</td>\n",
       "</tr>\n",
       "</table>\n",
       "<table class=\"simpletable\">\n",
       "<tr>\n",
       "  <th>Omnibus:</th>       <td> 3.535</td> <th>  Durbin-Watson:     </th> <td>   1.336</td>\n",
       "</tr>\n",
       "<tr>\n",
       "  <th>Prob(Omnibus):</th> <td> 0.171</td> <th>  Jarque-Bera (JB):  </th> <td>   2.364</td>\n",
       "</tr>\n",
       "<tr>\n",
       "  <th>Skew:</th>          <td> 0.558</td> <th>  Prob(JB):          </th> <td>   0.307</td>\n",
       "</tr>\n",
       "<tr>\n",
       "  <th>Kurtosis:</th>      <td> 3.459</td> <th>  Cond. No.          </th> <td>    13.8</td>\n",
       "</tr>\n",
       "</table><br/><br/>Notes:<br/>[1] Standard Errors are heteroscedasticity and autocorrelation robust (HAC) using 1 lags and without small sample correction"
      ],
      "text/plain": [
       "<class 'statsmodels.iolib.summary.Summary'>\n",
       "\"\"\"\n",
       "                                    OLS Regression Results                                   \n",
       "=============================================================================================\n",
       "Dep. Variable:     standardize(total_sleep_duration)   R-squared:                       0.240\n",
       "Model:                                           OLS   Adj. R-squared:                 -0.032\n",
       "Method:                                Least Squares   F-statistic:                     3.403\n",
       "Date:                               Tue, 25 May 2021   Prob (F-statistic):            0.00508\n",
       "Time:                                       10:08:27   Log-Likelihood:                -49.997\n",
       "No. Observations:                                 39   AIC:                             122.0\n",
       "Df Residuals:                                     28   BIC:                             140.3\n",
       "Df Model:                                         10                                         \n",
       "Covariance Type:                                 HAC                                         \n",
       "==================================================================================================================================\n",
       "                                                                     coef    std err          z      P>|z|      [0.025      0.975]\n",
       "----------------------------------------------------------------------------------------------------------------------------------\n",
       "Intercept                                                          0.3586      0.255      1.406      0.160      -0.141       0.859\n",
       "C(treatment, Treatment(reference='multivitamin'))[T.magnesium]    -0.4653      0.222     -2.093      0.036      -0.901      -0.030\n",
       "C(day_of_week)[T.Monday]                                          -0.3340      0.504     -0.662      0.508      -1.322       0.654\n",
       "C(day_of_week)[T.Saturday]                                        -0.0439      0.577     -0.076      0.939      -1.175       1.087\n",
       "C(day_of_week)[T.Sunday]                                          -0.0802      0.428     -0.187      0.852      -0.920       0.760\n",
       "C(day_of_week)[T.Thursday]                                        -0.5838      0.638     -0.916      0.360      -1.833       0.666\n",
       "C(day_of_week)[T.Tuesday]                                          0.3578      0.498      0.719      0.472      -0.618       1.334\n",
       "C(day_of_week)[T.Wednesday]                                       -0.3098      0.385     -0.804      0.421      -1.065       0.445\n",
       "standardize(sleep_start_time)                                     -0.4793      0.185     -2.586      0.010      -0.843      -0.116\n",
       "standardize(steps)                                                -0.0132      0.209     -0.063      0.949      -0.422       0.396\n",
       "standardize(calories)                                              0.1083      0.223      0.487      0.626      -0.328       0.544\n",
       "==============================================================================\n",
       "Omnibus:                        3.535   Durbin-Watson:                   1.336\n",
       "Prob(Omnibus):                  0.171   Jarque-Bera (JB):                2.364\n",
       "Skew:                           0.558   Prob(JB):                        0.307\n",
       "Kurtosis:                       3.459   Cond. No.                         13.8\n",
       "==============================================================================\n",
       "\n",
       "Notes:\n",
       "[1] Standard Errors are heteroscedasticity and autocorrelation robust (HAC) using 1 lags and without small sample correction\n",
       "\"\"\""
      ]
     },
     "metadata": {},
     "output_type": "display_data"
    },
    {
     "data": {
      "text/markdown": [
       "### Results for rem sleep duration"
      ],
      "text/plain": [
       "<IPython.core.display.Markdown object>"
      ]
     },
     "metadata": {},
     "output_type": "display_data"
    },
    {
     "data": {
      "text/markdown": [
       "The effect on rem sleep duration was not statistically signficant."
      ],
      "text/plain": [
       "<IPython.core.display.Markdown object>"
      ]
     },
     "metadata": {},
     "output_type": "display_data"
    },
    {
     "data": {
      "text/html": [
       "<table class=\"simpletable\">\n",
       "<caption>OLS Regression Results</caption>\n",
       "<tr>\n",
       "  <th>Dep. Variable:</th>    <td>standardize(rem_sleep_duration)</td> <th>  R-squared:         </th> <td>   0.402</td>\n",
       "</tr>\n",
       "<tr>\n",
       "  <th>Model:</th>                          <td>OLS</td>               <th>  Adj. R-squared:    </th> <td>   0.189</td>\n",
       "</tr>\n",
       "<tr>\n",
       "  <th>Method:</th>                    <td>Least Squares</td>          <th>  F-statistic:       </th> <td>   7.091</td>\n",
       "</tr>\n",
       "<tr>\n",
       "  <th>Date:</th>                    <td>Tue, 25 May 2021</td>         <th>  Prob (F-statistic):</th> <td>1.91e-05</td>\n",
       "</tr>\n",
       "<tr>\n",
       "  <th>Time:</th>                        <td>10:08:27</td>             <th>  Log-Likelihood:    </th> <td> -45.301</td>\n",
       "</tr>\n",
       "<tr>\n",
       "  <th>No. Observations:</th>             <td>    39</td>              <th>  AIC:               </th> <td>   112.6</td>\n",
       "</tr>\n",
       "<tr>\n",
       "  <th>Df Residuals:</th>                 <td>    28</td>              <th>  BIC:               </th> <td>   130.9</td>\n",
       "</tr>\n",
       "<tr>\n",
       "  <th>Df Model:</th>                     <td>    10</td>              <th>                     </th>     <td> </td>   \n",
       "</tr>\n",
       "<tr>\n",
       "  <th>Covariance Type:</th>                <td>HAC</td>               <th>                     </th>     <td> </td>   \n",
       "</tr>\n",
       "</table>\n",
       "<table class=\"simpletable\">\n",
       "<tr>\n",
       "                                 <td></td>                                   <th>coef</th>     <th>std err</th>      <th>z</th>      <th>P>|z|</th>  <th>[0.025</th>    <th>0.975]</th>  \n",
       "</tr>\n",
       "<tr>\n",
       "  <th>Intercept</th>                                                      <td>    0.1771</td> <td>    0.236</td> <td>    0.751</td> <td> 0.452</td> <td>   -0.285</td> <td>    0.639</td>\n",
       "</tr>\n",
       "<tr>\n",
       "  <th>C(treatment, Treatment(reference='multivitamin'))[T.magnesium]</th> <td>   -0.1963</td> <td>    0.330</td> <td>   -0.595</td> <td> 0.552</td> <td>   -0.843</td> <td>    0.450</td>\n",
       "</tr>\n",
       "<tr>\n",
       "  <th>C(day_of_week)[T.Monday]</th>                                       <td>   -1.0741</td> <td>    0.397</td> <td>   -2.708</td> <td> 0.007</td> <td>   -1.852</td> <td>   -0.297</td>\n",
       "</tr>\n",
       "<tr>\n",
       "  <th>C(day_of_week)[T.Saturday]</th>                                     <td>    0.7146</td> <td>    0.563</td> <td>    1.269</td> <td> 0.204</td> <td>   -0.389</td> <td>    1.818</td>\n",
       "</tr>\n",
       "<tr>\n",
       "  <th>C(day_of_week)[T.Sunday]</th>                                       <td>   -0.2669</td> <td>    0.554</td> <td>   -0.481</td> <td> 0.630</td> <td>   -1.353</td> <td>    0.820</td>\n",
       "</tr>\n",
       "<tr>\n",
       "  <th>C(day_of_week)[T.Thursday]</th>                                     <td>   -0.7682</td> <td>    0.394</td> <td>   -1.950</td> <td> 0.051</td> <td>   -1.541</td> <td>    0.004</td>\n",
       "</tr>\n",
       "<tr>\n",
       "  <th>C(day_of_week)[T.Tuesday]</th>                                      <td>    0.3933</td> <td>    0.304</td> <td>    1.293</td> <td> 0.196</td> <td>   -0.203</td> <td>    0.989</td>\n",
       "</tr>\n",
       "<tr>\n",
       "  <th>C(day_of_week)[T.Wednesday]</th>                                    <td>    0.6695</td> <td>    0.504</td> <td>    1.329</td> <td> 0.184</td> <td>   -0.318</td> <td>    1.657</td>\n",
       "</tr>\n",
       "<tr>\n",
       "  <th>standardize(sleep_start_time)</th>                                  <td>   -0.3539</td> <td>    0.222</td> <td>   -1.597</td> <td> 0.110</td> <td>   -0.788</td> <td>    0.080</td>\n",
       "</tr>\n",
       "<tr>\n",
       "  <th>standardize(steps)</th>                                             <td>   -0.2730</td> <td>    0.148</td> <td>   -1.841</td> <td> 0.066</td> <td>   -0.564</td> <td>    0.018</td>\n",
       "</tr>\n",
       "<tr>\n",
       "  <th>standardize(calories)</th>                                          <td>    0.3231</td> <td>    0.267</td> <td>    1.212</td> <td> 0.225</td> <td>   -0.199</td> <td>    0.845</td>\n",
       "</tr>\n",
       "</table>\n",
       "<table class=\"simpletable\">\n",
       "<tr>\n",
       "  <th>Omnibus:</th>       <td> 3.822</td> <th>  Durbin-Watson:     </th> <td>   2.050</td>\n",
       "</tr>\n",
       "<tr>\n",
       "  <th>Prob(Omnibus):</th> <td> 0.148</td> <th>  Jarque-Bera (JB):  </th> <td>   3.373</td>\n",
       "</tr>\n",
       "<tr>\n",
       "  <th>Skew:</th>          <td>-0.118</td> <th>  Prob(JB):          </th> <td>   0.185</td>\n",
       "</tr>\n",
       "<tr>\n",
       "  <th>Kurtosis:</th>      <td> 4.421</td> <th>  Cond. No.          </th> <td>    13.8</td>\n",
       "</tr>\n",
       "</table><br/><br/>Notes:<br/>[1] Standard Errors are heteroscedasticity and autocorrelation robust (HAC) using 1 lags and without small sample correction"
      ],
      "text/plain": [
       "<class 'statsmodels.iolib.summary.Summary'>\n",
       "\"\"\"\n",
       "                                   OLS Regression Results                                  \n",
       "===========================================================================================\n",
       "Dep. Variable:     standardize(rem_sleep_duration)   R-squared:                       0.402\n",
       "Model:                                         OLS   Adj. R-squared:                  0.189\n",
       "Method:                              Least Squares   F-statistic:                     7.091\n",
       "Date:                             Tue, 25 May 2021   Prob (F-statistic):           1.91e-05\n",
       "Time:                                     10:08:27   Log-Likelihood:                -45.301\n",
       "No. Observations:                               39   AIC:                             112.6\n",
       "Df Residuals:                                   28   BIC:                             130.9\n",
       "Df Model:                                       10                                         \n",
       "Covariance Type:                               HAC                                         \n",
       "==================================================================================================================================\n",
       "                                                                     coef    std err          z      P>|z|      [0.025      0.975]\n",
       "----------------------------------------------------------------------------------------------------------------------------------\n",
       "Intercept                                                          0.1771      0.236      0.751      0.452      -0.285       0.639\n",
       "C(treatment, Treatment(reference='multivitamin'))[T.magnesium]    -0.1963      0.330     -0.595      0.552      -0.843       0.450\n",
       "C(day_of_week)[T.Monday]                                          -1.0741      0.397     -2.708      0.007      -1.852      -0.297\n",
       "C(day_of_week)[T.Saturday]                                         0.7146      0.563      1.269      0.204      -0.389       1.818\n",
       "C(day_of_week)[T.Sunday]                                          -0.2669      0.554     -0.481      0.630      -1.353       0.820\n",
       "C(day_of_week)[T.Thursday]                                        -0.7682      0.394     -1.950      0.051      -1.541       0.004\n",
       "C(day_of_week)[T.Tuesday]                                          0.3933      0.304      1.293      0.196      -0.203       0.989\n",
       "C(day_of_week)[T.Wednesday]                                        0.6695      0.504      1.329      0.184      -0.318       1.657\n",
       "standardize(sleep_start_time)                                     -0.3539      0.222     -1.597      0.110      -0.788       0.080\n",
       "standardize(steps)                                                -0.2730      0.148     -1.841      0.066      -0.564       0.018\n",
       "standardize(calories)                                              0.3231      0.267      1.212      0.225      -0.199       0.845\n",
       "==============================================================================\n",
       "Omnibus:                        3.822   Durbin-Watson:                   2.050\n",
       "Prob(Omnibus):                  0.148   Jarque-Bera (JB):                3.373\n",
       "Skew:                          -0.118   Prob(JB):                        0.185\n",
       "Kurtosis:                       4.421   Cond. No.                         13.8\n",
       "==============================================================================\n",
       "\n",
       "Notes:\n",
       "[1] Standard Errors are heteroscedasticity and autocorrelation robust (HAC) using 1 lags and without small sample correction\n",
       "\"\"\""
      ]
     },
     "metadata": {},
     "output_type": "display_data"
    },
    {
     "data": {
      "text/markdown": [
       "### Results for deep sleep duration"
      ],
      "text/plain": [
       "<IPython.core.display.Markdown object>"
      ]
     },
     "metadata": {},
     "output_type": "display_data"
    },
    {
     "data": {
      "text/markdown": [
       "The effect on deep sleep duration was not statistically signficant."
      ],
      "text/plain": [
       "<IPython.core.display.Markdown object>"
      ]
     },
     "metadata": {},
     "output_type": "display_data"
    },
    {
     "data": {
      "text/html": [
       "<table class=\"simpletable\">\n",
       "<caption>OLS Regression Results</caption>\n",
       "<tr>\n",
       "  <th>Dep. Variable:</th>    <td>standardize(deep_sleep_duration)</td> <th>  R-squared:         </th> <td>   0.256</td>\n",
       "</tr>\n",
       "<tr>\n",
       "  <th>Model:</th>                           <td>OLS</td>               <th>  Adj. R-squared:    </th> <td>  -0.009</td>\n",
       "</tr>\n",
       "<tr>\n",
       "  <th>Method:</th>                     <td>Least Squares</td>          <th>  F-statistic:       </th> <td>   3.182</td>\n",
       "</tr>\n",
       "<tr>\n",
       "  <th>Date:</th>                     <td>Tue, 25 May 2021</td>         <th>  Prob (F-statistic):</th>  <td>0.00758</td>\n",
       "</tr>\n",
       "<tr>\n",
       "  <th>Time:</th>                         <td>10:08:28</td>             <th>  Log-Likelihood:    </th> <td> -49.561</td>\n",
       "</tr>\n",
       "<tr>\n",
       "  <th>No. Observations:</th>              <td>    39</td>              <th>  AIC:               </th> <td>   121.1</td>\n",
       "</tr>\n",
       "<tr>\n",
       "  <th>Df Residuals:</th>                  <td>    28</td>              <th>  BIC:               </th> <td>   139.4</td>\n",
       "</tr>\n",
       "<tr>\n",
       "  <th>Df Model:</th>                      <td>    10</td>              <th>                     </th>     <td> </td>   \n",
       "</tr>\n",
       "<tr>\n",
       "  <th>Covariance Type:</th>                 <td>HAC</td>               <th>                     </th>     <td> </td>   \n",
       "</tr>\n",
       "</table>\n",
       "<table class=\"simpletable\">\n",
       "<tr>\n",
       "                                 <td></td>                                   <th>coef</th>     <th>std err</th>      <th>z</th>      <th>P>|z|</th>  <th>[0.025</th>    <th>0.975]</th>  \n",
       "</tr>\n",
       "<tr>\n",
       "  <th>Intercept</th>                                                      <td>   -0.3950</td> <td>    0.539</td> <td>   -0.733</td> <td> 0.463</td> <td>   -1.451</td> <td>    0.661</td>\n",
       "</tr>\n",
       "<tr>\n",
       "  <th>C(treatment, Treatment(reference='multivitamin'))[T.magnesium]</th> <td>    0.0187</td> <td>    0.272</td> <td>    0.069</td> <td> 0.945</td> <td>   -0.514</td> <td>    0.552</td>\n",
       "</tr>\n",
       "<tr>\n",
       "  <th>C(day_of_week)[T.Monday]</th>                                       <td>   -0.0551</td> <td>    0.613</td> <td>   -0.090</td> <td> 0.928</td> <td>   -1.257</td> <td>    1.147</td>\n",
       "</tr>\n",
       "<tr>\n",
       "  <th>C(day_of_week)[T.Saturday]</th>                                     <td>    0.4400</td> <td>    0.913</td> <td>    0.482</td> <td> 0.630</td> <td>   -1.349</td> <td>    2.229</td>\n",
       "</tr>\n",
       "<tr>\n",
       "  <th>C(day_of_week)[T.Sunday]</th>                                       <td>   -0.0659</td> <td>    0.638</td> <td>   -0.103</td> <td> 0.918</td> <td>   -1.317</td> <td>    1.185</td>\n",
       "</tr>\n",
       "<tr>\n",
       "  <th>C(day_of_week)[T.Thursday]</th>                                     <td>    0.4252</td> <td>    0.652</td> <td>    0.653</td> <td> 0.514</td> <td>   -0.852</td> <td>    1.702</td>\n",
       "</tr>\n",
       "<tr>\n",
       "  <th>C(day_of_week)[T.Tuesday]</th>                                      <td>    1.1436</td> <td>    0.589</td> <td>    1.942</td> <td> 0.052</td> <td>   -0.011</td> <td>    2.298</td>\n",
       "</tr>\n",
       "<tr>\n",
       "  <th>C(day_of_week)[T.Wednesday]</th>                                    <td>    0.8362</td> <td>    0.623</td> <td>    1.343</td> <td> 0.179</td> <td>   -0.384</td> <td>    2.057</td>\n",
       "</tr>\n",
       "<tr>\n",
       "  <th>standardize(sleep_start_time)</th>                                  <td>    0.1290</td> <td>    0.278</td> <td>    0.464</td> <td> 0.642</td> <td>   -0.416</td> <td>    0.674</td>\n",
       "</tr>\n",
       "<tr>\n",
       "  <th>standardize(steps)</th>                                             <td>   -0.0071</td> <td>    0.215</td> <td>   -0.033</td> <td> 0.974</td> <td>   -0.428</td> <td>    0.414</td>\n",
       "</tr>\n",
       "<tr>\n",
       "  <th>standardize(calories)</th>                                          <td>    0.1472</td> <td>    0.252</td> <td>    0.584</td> <td> 0.559</td> <td>   -0.347</td> <td>    0.641</td>\n",
       "</tr>\n",
       "</table>\n",
       "<table class=\"simpletable\">\n",
       "<tr>\n",
       "  <th>Omnibus:</th>       <td> 2.128</td> <th>  Durbin-Watson:     </th> <td>   1.521</td>\n",
       "</tr>\n",
       "<tr>\n",
       "  <th>Prob(Omnibus):</th> <td> 0.345</td> <th>  Jarque-Bera (JB):  </th> <td>   1.171</td>\n",
       "</tr>\n",
       "<tr>\n",
       "  <th>Skew:</th>          <td> 0.372</td> <th>  Prob(JB):          </th> <td>   0.557</td>\n",
       "</tr>\n",
       "<tr>\n",
       "  <th>Kurtosis:</th>      <td> 3.408</td> <th>  Cond. No.          </th> <td>    13.8</td>\n",
       "</tr>\n",
       "</table><br/><br/>Notes:<br/>[1] Standard Errors are heteroscedasticity and autocorrelation robust (HAC) using 1 lags and without small sample correction"
      ],
      "text/plain": [
       "<class 'statsmodels.iolib.summary.Summary'>\n",
       "\"\"\"\n",
       "                                   OLS Regression Results                                   \n",
       "============================================================================================\n",
       "Dep. Variable:     standardize(deep_sleep_duration)   R-squared:                       0.256\n",
       "Model:                                          OLS   Adj. R-squared:                 -0.009\n",
       "Method:                               Least Squares   F-statistic:                     3.182\n",
       "Date:                              Tue, 25 May 2021   Prob (F-statistic):            0.00758\n",
       "Time:                                      10:08:28   Log-Likelihood:                -49.561\n",
       "No. Observations:                                39   AIC:                             121.1\n",
       "Df Residuals:                                    28   BIC:                             139.4\n",
       "Df Model:                                        10                                         \n",
       "Covariance Type:                                HAC                                         \n",
       "==================================================================================================================================\n",
       "                                                                     coef    std err          z      P>|z|      [0.025      0.975]\n",
       "----------------------------------------------------------------------------------------------------------------------------------\n",
       "Intercept                                                         -0.3950      0.539     -0.733      0.463      -1.451       0.661\n",
       "C(treatment, Treatment(reference='multivitamin'))[T.magnesium]     0.0187      0.272      0.069      0.945      -0.514       0.552\n",
       "C(day_of_week)[T.Monday]                                          -0.0551      0.613     -0.090      0.928      -1.257       1.147\n",
       "C(day_of_week)[T.Saturday]                                         0.4400      0.913      0.482      0.630      -1.349       2.229\n",
       "C(day_of_week)[T.Sunday]                                          -0.0659      0.638     -0.103      0.918      -1.317       1.185\n",
       "C(day_of_week)[T.Thursday]                                         0.4252      0.652      0.653      0.514      -0.852       1.702\n",
       "C(day_of_week)[T.Tuesday]                                          1.1436      0.589      1.942      0.052      -0.011       2.298\n",
       "C(day_of_week)[T.Wednesday]                                        0.8362      0.623      1.343      0.179      -0.384       2.057\n",
       "standardize(sleep_start_time)                                      0.1290      0.278      0.464      0.642      -0.416       0.674\n",
       "standardize(steps)                                                -0.0071      0.215     -0.033      0.974      -0.428       0.414\n",
       "standardize(calories)                                              0.1472      0.252      0.584      0.559      -0.347       0.641\n",
       "==============================================================================\n",
       "Omnibus:                        2.128   Durbin-Watson:                   1.521\n",
       "Prob(Omnibus):                  0.345   Jarque-Bera (JB):                1.171\n",
       "Skew:                           0.372   Prob(JB):                        0.557\n",
       "Kurtosis:                       3.408   Cond. No.                         13.8\n",
       "==============================================================================\n",
       "\n",
       "Notes:\n",
       "[1] Standard Errors are heteroscedasticity and autocorrelation robust (HAC) using 1 lags and without small sample correction\n",
       "\"\"\""
      ]
     },
     "metadata": {},
     "output_type": "display_data"
    },
    {
     "data": {
      "application/javascript": [
       "\n",
       "            setTimeout(function() {\n",
       "                var nbb_cell_id = 37;\n",
       "                var nbb_unformatted_code = \"for dependent_variable in model[\\\"dependent_variables\\\"]:\\n    display(Markdown(f\\\"### Results for {dependent_variable.replace('_', ' ')}\\\"))\\n    formula = ols.build_formula(\\n        df, dependent_variable, treatment, model[\\\"control_variables\\\"]\\n    )\\n    result = ols.fit_model(df, formula)\\n    display(Markdown(ols.result_to_english(result, dependent_variable, treatment)))\\n    display(result.summary())\";\n",
       "                var nbb_formatted_code = \"for dependent_variable in model[\\\"dependent_variables\\\"]:\\n    display(Markdown(f\\\"### Results for {dependent_variable.replace('_', ' ')}\\\"))\\n    formula = ols.build_formula(\\n        df, dependent_variable, treatment, model[\\\"control_variables\\\"]\\n    )\\n    result = ols.fit_model(df, formula)\\n    display(Markdown(ols.result_to_english(result, dependent_variable, treatment)))\\n    display(result.summary())\";\n",
       "                var nbb_cells = Jupyter.notebook.get_cells();\n",
       "                for (var i = 0; i < nbb_cells.length; ++i) {\n",
       "                    if (nbb_cells[i].input_prompt_number == nbb_cell_id) {\n",
       "                        if (nbb_cells[i].get_text() == nbb_unformatted_code) {\n",
       "                             nbb_cells[i].set_text(nbb_formatted_code);\n",
       "                        }\n",
       "                        break;\n",
       "                    }\n",
       "                }\n",
       "            }, 500);\n",
       "            "
      ],
      "text/plain": [
       "<IPython.core.display.Javascript object>"
      ]
     },
     "metadata": {},
     "output_type": "display_data"
    }
   ],
   "source": [
    "for dependent_variable in model[\"dependent_variables\"]:\n",
    "    display(Markdown(f\"### Results for {dependent_variable.replace('_', ' ')}\"))\n",
    "    formula = ols.build_formula(\n",
    "        df, dependent_variable, treatment, model[\"control_variables\"]\n",
    "    )\n",
    "    result = ols.fit_model(df, formula)\n",
    "    display(Markdown(ols.result_to_english(result, dependent_variable, treatment)))\n",
    "    display(result.summary())"
   ]
  }
 ],
 "metadata": {
  "celltoolbar": "Tags",
  "jupytext": {
   "formats": "ipynb,md"
  },
  "kernelspec": {
   "display_name": "Python 3",
   "language": "python",
   "name": "python3"
  },
  "language_info": {
   "codemirror_mode": {
    "name": "ipython",
    "version": 3
   },
   "file_extension": ".py",
   "mimetype": "text/x-python",
   "name": "python",
   "nbconvert_exporter": "python",
   "pygments_lexer": "ipython3",
   "version": "3.7.5"
  }
 },
 "nbformat": 4,
 "nbformat_minor": 5
}
