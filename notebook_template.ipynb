{
 "cells": [
  {
   "cell_type": "code",
   "execution_count": 1,
   "id": "1cbf7027",
   "metadata": {},
   "outputs": [
    {
     "data": {
      "application/javascript": [
       "\n",
       "            setTimeout(function() {\n",
       "                var nbb_cell_id = 1;\n",
       "                var nbb_unformatted_code = \"%%capture\\nfrom IPython.display import display, Markdown\\nimport time\\nimport pandas as pd\\nimport matplotlib.pyplot as plt\\nimport seaborn as sns\\n\\nimport sys\\nsys.path.append(\\\".src\\\")\\nfrom src.data import utils\\nfrom src.data.fitbit import sleep, activity\\nfrom src.models import ols\\n\\n%load_ext nb_black\\n%matplotlib inline\";\n",
       "                var nbb_formatted_code = \"%%capture\\nfrom IPython.display import display, Markdown\\nimport time\\nimport pandas as pd\\nimport matplotlib.pyplot as plt\\nimport seaborn as sns\\n\\nimport sys\\nsys.path.append(\\\".src\\\")\\nfrom src.data import utils\\nfrom src.data.fitbit import sleep, activity\\nfrom src.models import ols\\n\\n%load_ext nb_black\\n%matplotlib inline\";\n",
       "                var nbb_cells = Jupyter.notebook.get_cells();\n",
       "                for (var i = 0; i < nbb_cells.length; ++i) {\n",
       "                    if (nbb_cells[i].input_prompt_number == nbb_cell_id) {\n",
       "                        if (nbb_cells[i].get_text() == nbb_unformatted_code) {\n",
       "                             nbb_cells[i].set_text(nbb_formatted_code);\n",
       "                        }\n",
       "                        break;\n",
       "                    }\n",
       "                }\n",
       "            }, 500);\n",
       "            "
      ],
      "text/plain": [
       "<IPython.core.display.Javascript object>"
      ]
     },
     "metadata": {},
     "output_type": "display_data"
    }
   ],
   "source": [
    "%%capture\n",
    "from IPython.display import display, Markdown\n",
    "import time\n",
    "import pandas as pd\n",
    "import matplotlib.pyplot as plt\n",
    "import seaborn as sns\n",
    "\n",
    "import sys\n",
    "sys.path.append(\".src\")\n",
    "from src.data import utils\n",
    "from src.data.fitbit import sleep, activity\n",
    "from src.models import ols\n",
    "\n",
    "%load_ext nb_black\n",
    "%matplotlib inline"
   ]
  },
  {
   "cell_type": "code",
   "execution_count": 2,
   "id": "f07ad63b",
   "metadata": {
    "scrolled": true,
    "tags": [
     "parameters"
    ]
   },
   "outputs": [
    {
     "data": {
      "application/javascript": [
       "\n",
       "            setTimeout(function() {\n",
       "                var nbb_cell_id = 2;\n",
       "                var nbb_unformatted_code = \"# Parameters\\nreport = {\\n    \\\"title\\\": \\\"The effect of magnesium supplementation on sleep quality: phase II\\\",\\n    \\\"author\\\": \\\"Peter Richens\\\",\\n    \\\"design\\\": \\\"A randomised trial was conducted on 1 adult male (me). The patient's sleep episodes where randomly allocated into the magnesium group (which recieved 200 mg of magnesium lysinate glycinate chelate) or the control group. Sleep activity was tracked by the patient's Fitbit device.\\\",\\n    \\\"source\\\": \\\"https://github.com/peterjrichens/personal-rct\\\",\\n    \\\"keywords\\\": [\\n        \\\"magnesium\\\",\\n        \\\"sleep\\\",\\n        \\\"magnesium supplementation\\\",\\n        \\\"insomnia\\\",\\n        \\\"activity trackers\\\",\\n        \\\"fitbit\\\",\\n    ],\\n    \\\"related_studies\\\": \\\"https://peterjrichens.github.io/personal-rct/magnesium_sleep_may_2021.html\\\",\\n}\\ndata = {\\n    \\\"source\\\": \\\"fitbit\\\",\\n    \\\"path\\\": \\\"data/MyFitbitData/PeterRichens\\\",\\n    \\\"start_date\\\": \\\"2021-04-29\\\",\\n    \\\"end_date\\\": \\\"2021-07-17\\\",\\n}\\ntreatment = {\\n    \\\"dates\\\": {\\n        \\\"magnesium\\\": [\\n            \\\"2021-05-29\\\",\\n            \\\"2021-05-31\\\",\\n            \\\"2021-06-01\\\",\\n            \\\"2021-06-03\\\",\\n            \\\"2021-06-05\\\",\\n            \\\"2021-06-07\\\",\\n            \\\"2021-06-09\\\",\\n            \\\"2021-06-11\\\",\\n            \\\"2021-06-13\\\",\\n            \\\"2021-06-17\\\",\\n            \\\"2021-06-19\\\",\\n            \\\"2021-06-21\\\",\\n            \\\"2021-06-23\\\",\\n            \\\"2021-06-25\\\",\\n            \\\"2021-06-27\\\",\\n            \\\"2021-07-01\\\",\\n            \\\"2021-07-05\\\",\\n            \\\"2021-07-07\\\",\\n            \\\"2021-07-11\\\",\\n            \\\"2021-07-13\\\",\\n            \\\"2021-07-15\\\",\\n        ],\\n        \\\"control\\\": [\\n            \\\"2021-05-30\\\",\\n            \\\"2021-06-02\\\",\\n            \\\"2021-06-04\\\",\\n            \\\"2021-06-06\\\",\\n            \\\"2021-06-08\\\",\\n            \\\"2021-06-10\\\",\\n            \\\"2021-06-12\\\",\\n            \\\"2021-06-14\\\",\\n            \\\"2021-06-16\\\",\\n            \\\"2021-06-18\\\",\\n            \\\"2021-06-20\\\",\\n            \\\"2021-06-22\\\",\\n            \\\"2021-06-24\\\",\\n            \\\"2021-06-26\\\",\\n            \\\"2021-06-28\\\",\\n            \\\"2021-06-30\\\",\\n            \\\"2021-07-02\\\",\\n            \\\"2021-07-04\\\",\\n            \\\"2021-07-06\\\",\\n            \\\"2021-07-08\\\",\\n            \\\"2021-07-10\\\",\\n            \\\"2021-07-12\\\",\\n            \\\"2021-07-14\\\",\\n            \\\"2021-07-16\\\",\\n        ],\\n    },\\n    \\\"exclude_dates\\\": [\\\"2021-06-15\\\", \\\"2021-06-29\\\", \\\"2021-07-03\\\", \\\"2021-07-09\\\"],\\n    \\\"target\\\": \\\"magnesium\\\",\\n    \\\"reference\\\": \\\"control\\\",\\n}\\nmodel = {\\n    \\\"dependent_variables\\\": [\\n        \\\"composite_sleep_score\\\",\\n        \\\"total_sleep_duration\\\",\\n        \\\"rem_sleep_duration\\\",\\n        \\\"deep_sleep_duration\\\",\\n    ],\\n    \\\"control_variables\\\": [\\\"day_of_week\\\", \\\"sleep_start_time\\\", \\\"steps\\\", \\\"calories\\\"],\\n}\";\n",
       "                var nbb_formatted_code = \"# Parameters\\nreport = {\\n    \\\"title\\\": \\\"The effect of magnesium supplementation on sleep quality: phase II\\\",\\n    \\\"author\\\": \\\"Peter Richens\\\",\\n    \\\"design\\\": \\\"A randomised trial was conducted on 1 adult male (me). The patient's sleep episodes where randomly allocated into the magnesium group (which recieved 200 mg of magnesium lysinate glycinate chelate) or the control group. Sleep activity was tracked by the patient's Fitbit device.\\\",\\n    \\\"source\\\": \\\"https://github.com/peterjrichens/personal-rct\\\",\\n    \\\"keywords\\\": [\\n        \\\"magnesium\\\",\\n        \\\"sleep\\\",\\n        \\\"magnesium supplementation\\\",\\n        \\\"insomnia\\\",\\n        \\\"activity trackers\\\",\\n        \\\"fitbit\\\",\\n    ],\\n    \\\"related_studies\\\": \\\"https://peterjrichens.github.io/personal-rct/magnesium_sleep_may_2021.html\\\",\\n}\\ndata = {\\n    \\\"source\\\": \\\"fitbit\\\",\\n    \\\"path\\\": \\\"data/MyFitbitData/PeterRichens\\\",\\n    \\\"start_date\\\": \\\"2021-04-29\\\",\\n    \\\"end_date\\\": \\\"2021-07-17\\\",\\n}\\ntreatment = {\\n    \\\"dates\\\": {\\n        \\\"magnesium\\\": [\\n            \\\"2021-05-29\\\",\\n            \\\"2021-05-31\\\",\\n            \\\"2021-06-01\\\",\\n            \\\"2021-06-03\\\",\\n            \\\"2021-06-05\\\",\\n            \\\"2021-06-07\\\",\\n            \\\"2021-06-09\\\",\\n            \\\"2021-06-11\\\",\\n            \\\"2021-06-13\\\",\\n            \\\"2021-06-17\\\",\\n            \\\"2021-06-19\\\",\\n            \\\"2021-06-21\\\",\\n            \\\"2021-06-23\\\",\\n            \\\"2021-06-25\\\",\\n            \\\"2021-06-27\\\",\\n            \\\"2021-07-01\\\",\\n            \\\"2021-07-05\\\",\\n            \\\"2021-07-07\\\",\\n            \\\"2021-07-11\\\",\\n            \\\"2021-07-13\\\",\\n            \\\"2021-07-15\\\",\\n        ],\\n        \\\"control\\\": [\\n            \\\"2021-05-30\\\",\\n            \\\"2021-06-02\\\",\\n            \\\"2021-06-04\\\",\\n            \\\"2021-06-06\\\",\\n            \\\"2021-06-08\\\",\\n            \\\"2021-06-10\\\",\\n            \\\"2021-06-12\\\",\\n            \\\"2021-06-14\\\",\\n            \\\"2021-06-16\\\",\\n            \\\"2021-06-18\\\",\\n            \\\"2021-06-20\\\",\\n            \\\"2021-06-22\\\",\\n            \\\"2021-06-24\\\",\\n            \\\"2021-06-26\\\",\\n            \\\"2021-06-28\\\",\\n            \\\"2021-06-30\\\",\\n            \\\"2021-07-02\\\",\\n            \\\"2021-07-04\\\",\\n            \\\"2021-07-06\\\",\\n            \\\"2021-07-08\\\",\\n            \\\"2021-07-10\\\",\\n            \\\"2021-07-12\\\",\\n            \\\"2021-07-14\\\",\\n            \\\"2021-07-16\\\",\\n        ],\\n    },\\n    \\\"exclude_dates\\\": [\\\"2021-06-15\\\", \\\"2021-06-29\\\", \\\"2021-07-03\\\", \\\"2021-07-09\\\"],\\n    \\\"target\\\": \\\"magnesium\\\",\\n    \\\"reference\\\": \\\"control\\\",\\n}\\nmodel = {\\n    \\\"dependent_variables\\\": [\\n        \\\"composite_sleep_score\\\",\\n        \\\"total_sleep_duration\\\",\\n        \\\"rem_sleep_duration\\\",\\n        \\\"deep_sleep_duration\\\",\\n    ],\\n    \\\"control_variables\\\": [\\\"day_of_week\\\", \\\"sleep_start_time\\\", \\\"steps\\\", \\\"calories\\\"],\\n}\";\n",
       "                var nbb_cells = Jupyter.notebook.get_cells();\n",
       "                for (var i = 0; i < nbb_cells.length; ++i) {\n",
       "                    if (nbb_cells[i].input_prompt_number == nbb_cell_id) {\n",
       "                        if (nbb_cells[i].get_text() == nbb_unformatted_code) {\n",
       "                             nbb_cells[i].set_text(nbb_formatted_code);\n",
       "                        }\n",
       "                        break;\n",
       "                    }\n",
       "                }\n",
       "            }, 500);\n",
       "            "
      ],
      "text/plain": [
       "<IPython.core.display.Javascript object>"
      ]
     },
     "metadata": {},
     "output_type": "display_data"
    }
   ],
   "source": [
    "# Parameters\n",
    "report = {\n",
    "    \"title\": \"The effect of magnesium supplementation on sleep quality: phase II\",\n",
    "    \"author\": \"Peter Richens\",\n",
    "    \"design\": \"A randomised trial was conducted on 1 adult male (me). The patient's sleep episodes where randomly allocated into the magnesium group (which recieved 200 mg of magnesium lysinate glycinate chelate) or the control group. Sleep activity was tracked by the patient's Fitbit device.\",\n",
    "    \"source\": \"https://github.com/peterjrichens/personal-rct\",\n",
    "    \"keywords\": [\n",
    "        \"magnesium\",\n",
    "        \"sleep\",\n",
    "        \"magnesium supplementation\",\n",
    "        \"insomnia\",\n",
    "        \"activity trackers\",\n",
    "        \"fitbit\",\n",
    "    ],\n",
    "    \"related_studies\": \"https://peterjrichens.github.io/personal-rct/magnesium_sleep_may_2021.html\",\n",
    "}\n",
    "data = {\n",
    "    \"source\": \"fitbit\",\n",
    "    \"path\": \"data/MyFitbitData/PeterRichens\",\n",
    "    \"start_date\": \"2021-04-29\",\n",
    "    \"end_date\": \"2021-07-17\",\n",
    "}\n",
    "treatment = {\n",
    "    \"dates\": {\n",
    "        \"magnesium\": [\n",
    "            \"2021-05-29\",\n",
    "            \"2021-05-31\",\n",
    "            \"2021-06-01\",\n",
    "            \"2021-06-03\",\n",
    "            \"2021-06-05\",\n",
    "            \"2021-06-07\",\n",
    "            \"2021-06-09\",\n",
    "            \"2021-06-11\",\n",
    "            \"2021-06-13\",\n",
    "            \"2021-06-17\",\n",
    "            \"2021-06-19\",\n",
    "            \"2021-06-21\",\n",
    "            \"2021-06-23\",\n",
    "            \"2021-06-25\",\n",
    "            \"2021-06-27\",\n",
    "            \"2021-07-01\",\n",
    "            \"2021-07-05\",\n",
    "            \"2021-07-07\",\n",
    "            \"2021-07-11\",\n",
    "            \"2021-07-13\",\n",
    "            \"2021-07-15\",\n",
    "        ],\n",
    "        \"control\": [\n",
    "            \"2021-05-30\",\n",
    "            \"2021-06-02\",\n",
    "            \"2021-06-04\",\n",
    "            \"2021-06-06\",\n",
    "            \"2021-06-08\",\n",
    "            \"2021-06-10\",\n",
    "            \"2021-06-12\",\n",
    "            \"2021-06-14\",\n",
    "            \"2021-06-16\",\n",
    "            \"2021-06-18\",\n",
    "            \"2021-06-20\",\n",
    "            \"2021-06-22\",\n",
    "            \"2021-06-24\",\n",
    "            \"2021-06-26\",\n",
    "            \"2021-06-28\",\n",
    "            \"2021-06-30\",\n",
    "            \"2021-07-02\",\n",
    "            \"2021-07-04\",\n",
    "            \"2021-07-06\",\n",
    "            \"2021-07-08\",\n",
    "            \"2021-07-10\",\n",
    "            \"2021-07-12\",\n",
    "            \"2021-07-14\",\n",
    "            \"2021-07-16\",\n",
    "        ],\n",
    "    },\n",
    "    \"exclude_dates\": [\"2021-06-15\", \"2021-06-29\", \"2021-07-03\", \"2021-07-09\"],\n",
    "    \"target\": \"magnesium\",\n",
    "    \"reference\": \"control\",\n",
    "}\n",
    "model = {\n",
    "    \"dependent_variables\": [\n",
    "        \"composite_sleep_score\",\n",
    "        \"total_sleep_duration\",\n",
    "        \"rem_sleep_duration\",\n",
    "        \"deep_sleep_duration\",\n",
    "    ],\n",
    "    \"control_variables\": [\"day_of_week\", \"sleep_start_time\", \"steps\", \"calories\"],\n",
    "}"
   ]
  },
  {
   "cell_type": "code",
   "execution_count": 3,
   "id": "a098a739",
   "metadata": {
    "scrolled": true
   },
   "outputs": [
    {
     "data": {
      "application/javascript": [
       "\n",
       "            setTimeout(function() {\n",
       "                var nbb_cell_id = 3;\n",
       "                var nbb_unformatted_code = \"treatment_df = utils.get_treatment_df(\\n    data[\\\"start_date\\\"], data[\\\"end_date\\\"], treatment\\n).pipe(utils.add_day_of_week)\\n\\nassert data[\\\"source\\\"] == \\\"fitbit\\\"\\n\\nsleep_df = (\\n    utils.load_data(data[\\\"path\\\"], \\\"Sleep/sleep-*.json\\\")\\n    .pipe(sleep.filter_main_sleep)\\n    .pipe(sleep.add_treatment_date)\\n    .pipe(sleep.add_sleep_start_time)\\n    .pipe(sleep.add_total_sleep_duration)\\n    .pipe(sleep.add_stage_duration)\\n    .pipe(sleep.select_columns)\\n    .pipe(utils.validate)\\n)\\n\\nsleep_score_df = (\\n    utils.load_data(data[\\\"path\\\"], \\\"Sleep/sleep_score.csv\\\")\\n    .pipe(sleep.filter_sleep_score)\\n    .pipe(utils.validate)\\n)\\n\\nsteps_df = (\\n    utils.load_data(data[\\\"path\\\"], \\\"Physical Activity/steps-*.json\\\")\\n    .pipe(activity.sum_by_treatment_date, \\\"steps\\\")\\n    .pipe(utils.validate)\\n)\\n\\ncalories_df = (\\n    utils.load_data(data[\\\"path\\\"], \\\"Physical Activity/calories-*.json\\\")\\n    .pipe(activity.sum_by_treatment_date, \\\"calories\\\")\\n    .pipe(utils.validate)\\n)\";\n",
       "                var nbb_formatted_code = \"treatment_df = utils.get_treatment_df(\\n    data[\\\"start_date\\\"], data[\\\"end_date\\\"], treatment\\n).pipe(utils.add_day_of_week)\\n\\nassert data[\\\"source\\\"] == \\\"fitbit\\\"\\n\\nsleep_df = (\\n    utils.load_data(data[\\\"path\\\"], \\\"Sleep/sleep-*.json\\\")\\n    .pipe(sleep.filter_main_sleep)\\n    .pipe(sleep.add_treatment_date)\\n    .pipe(sleep.add_sleep_start_time)\\n    .pipe(sleep.add_total_sleep_duration)\\n    .pipe(sleep.add_stage_duration)\\n    .pipe(sleep.select_columns)\\n    .pipe(utils.validate)\\n)\\n\\nsleep_score_df = (\\n    utils.load_data(data[\\\"path\\\"], \\\"Sleep/sleep_score.csv\\\")\\n    .pipe(sleep.filter_sleep_score)\\n    .pipe(utils.validate)\\n)\\n\\nsteps_df = (\\n    utils.load_data(data[\\\"path\\\"], \\\"Physical Activity/steps-*.json\\\")\\n    .pipe(activity.sum_by_treatment_date, \\\"steps\\\")\\n    .pipe(utils.validate)\\n)\\n\\ncalories_df = (\\n    utils.load_data(data[\\\"path\\\"], \\\"Physical Activity/calories-*.json\\\")\\n    .pipe(activity.sum_by_treatment_date, \\\"calories\\\")\\n    .pipe(utils.validate)\\n)\";\n",
       "                var nbb_cells = Jupyter.notebook.get_cells();\n",
       "                for (var i = 0; i < nbb_cells.length; ++i) {\n",
       "                    if (nbb_cells[i].input_prompt_number == nbb_cell_id) {\n",
       "                        if (nbb_cells[i].get_text() == nbb_unformatted_code) {\n",
       "                             nbb_cells[i].set_text(nbb_formatted_code);\n",
       "                        }\n",
       "                        break;\n",
       "                    }\n",
       "                }\n",
       "            }, 500);\n",
       "            "
      ],
      "text/plain": [
       "<IPython.core.display.Javascript object>"
      ]
     },
     "metadata": {},
     "output_type": "display_data"
    }
   ],
   "source": [
    "treatment_df = utils.get_treatment_df(\n",
    "    data[\"start_date\"], data[\"end_date\"], treatment\n",
    ").pipe(utils.add_day_of_week)\n",
    "\n",
    "assert data[\"source\"] == \"fitbit\"\n",
    "\n",
    "sleep_df = (\n",
    "    utils.load_data(data[\"path\"], \"Sleep/sleep-*.json\")\n",
    "    .pipe(sleep.filter_main_sleep)\n",
    "    .pipe(sleep.add_treatment_date)\n",
    "    .pipe(sleep.add_sleep_start_time)\n",
    "    .pipe(sleep.add_total_sleep_duration)\n",
    "    .pipe(sleep.add_stage_duration)\n",
    "    .pipe(sleep.select_columns)\n",
    "    .pipe(utils.validate)\n",
    ")\n",
    "\n",
    "sleep_score_df = (\n",
    "    utils.load_data(data[\"path\"], \"Sleep/sleep_score.csv\")\n",
    "    .pipe(sleep.filter_sleep_score)\n",
    "    .pipe(utils.validate)\n",
    ")\n",
    "\n",
    "steps_df = (\n",
    "    utils.load_data(data[\"path\"], \"Physical Activity/steps-*.json\")\n",
    "    .pipe(activity.sum_by_treatment_date, \"steps\")\n",
    "    .pipe(utils.validate)\n",
    ")\n",
    "\n",
    "calories_df = (\n",
    "    utils.load_data(data[\"path\"], \"Physical Activity/calories-*.json\")\n",
    "    .pipe(activity.sum_by_treatment_date, \"calories\")\n",
    "    .pipe(utils.validate)\n",
    ")"
   ]
  },
  {
   "cell_type": "code",
   "execution_count": 4,
   "id": "ae2a6670",
   "metadata": {
    "scrolled": true
   },
   "outputs": [
    {
     "data": {
      "application/javascript": [
       "\n",
       "            setTimeout(function() {\n",
       "                var nbb_cell_id = 4;\n",
       "                var nbb_unformatted_code = \"df = (\\n    treatment_df.merge(sleep_df, on=\\\"treatment_date\\\", how=\\\"left\\\")\\n    .merge(sleep_score_df, on=\\\"treatment_date\\\", how=\\\"left\\\")\\n    .merge(steps_df, on=\\\"treatment_date\\\", how=\\\"left\\\")\\n    .merge(calories_df, on=\\\"treatment_date\\\", how=\\\"left\\\")\\n    .pipe(utils.validate)\\n)\";\n",
       "                var nbb_formatted_code = \"df = (\\n    treatment_df.merge(sleep_df, on=\\\"treatment_date\\\", how=\\\"left\\\")\\n    .merge(sleep_score_df, on=\\\"treatment_date\\\", how=\\\"left\\\")\\n    .merge(steps_df, on=\\\"treatment_date\\\", how=\\\"left\\\")\\n    .merge(calories_df, on=\\\"treatment_date\\\", how=\\\"left\\\")\\n    .pipe(utils.validate)\\n)\";\n",
       "                var nbb_cells = Jupyter.notebook.get_cells();\n",
       "                for (var i = 0; i < nbb_cells.length; ++i) {\n",
       "                    if (nbb_cells[i].input_prompt_number == nbb_cell_id) {\n",
       "                        if (nbb_cells[i].get_text() == nbb_unformatted_code) {\n",
       "                             nbb_cells[i].set_text(nbb_formatted_code);\n",
       "                        }\n",
       "                        break;\n",
       "                    }\n",
       "                }\n",
       "            }, 500);\n",
       "            "
      ],
      "text/plain": [
       "<IPython.core.display.Javascript object>"
      ]
     },
     "metadata": {},
     "output_type": "display_data"
    }
   ],
   "source": [
    "df = (\n",
    "    treatment_df.merge(sleep_df, on=\"treatment_date\", how=\"left\")\n",
    "    .merge(sleep_score_df, on=\"treatment_date\", how=\"left\")\n",
    "    .merge(steps_df, on=\"treatment_date\", how=\"left\")\n",
    "    .merge(calories_df, on=\"treatment_date\", how=\"left\")\n",
    "    .pipe(utils.validate)\n",
    ")"
   ]
  },
  {
   "cell_type": "code",
   "execution_count": 5,
   "id": "9bceacec",
   "metadata": {},
   "outputs": [
    {
     "data": {
      "application/javascript": [
       "\n",
       "            setTimeout(function() {\n",
       "                var nbb_cell_id = 5;\n",
       "                var nbb_unformatted_code = \"results = []\\nfor dependent_variable in model[\\\"dependent_variables\\\"]:\\n    formula = ols.build_formula(\\n        df, dependent_variable, treatment, model[\\\"control_variables\\\"]\\n    )\\n    results.append(\\n        ols.result_to_english(\\n            ols.fit_model(df[df[dependent_variable].notnull()], formula),\\n            dependent_variable,\\n            treatment,\\n        ),\\n    )\";\n",
       "                var nbb_formatted_code = \"results = []\\nfor dependent_variable in model[\\\"dependent_variables\\\"]:\\n    formula = ols.build_formula(\\n        df, dependent_variable, treatment, model[\\\"control_variables\\\"]\\n    )\\n    results.append(\\n        ols.result_to_english(\\n            ols.fit_model(df[df[dependent_variable].notnull()], formula),\\n            dependent_variable,\\n            treatment,\\n        ),\\n    )\";\n",
       "                var nbb_cells = Jupyter.notebook.get_cells();\n",
       "                for (var i = 0; i < nbb_cells.length; ++i) {\n",
       "                    if (nbb_cells[i].input_prompt_number == nbb_cell_id) {\n",
       "                        if (nbb_cells[i].get_text() == nbb_unformatted_code) {\n",
       "                             nbb_cells[i].set_text(nbb_formatted_code);\n",
       "                        }\n",
       "                        break;\n",
       "                    }\n",
       "                }\n",
       "            }, 500);\n",
       "            "
      ],
      "text/plain": [
       "<IPython.core.display.Javascript object>"
      ]
     },
     "metadata": {},
     "output_type": "display_data"
    }
   ],
   "source": [
    "results = []\n",
    "for dependent_variable in model[\"dependent_variables\"]:\n",
    "    formula = ols.build_formula(\n",
    "        df, dependent_variable, treatment, model[\"control_variables\"]\n",
    "    )\n",
    "    results.append(\n",
    "        ols.result_to_english(\n",
    "            ols.fit_model(df[df[dependent_variable].notnull()], formula),\n",
    "            dependent_variable,\n",
    "            treatment,\n",
    "        ),\n",
    "    )"
   ]
  },
  {
   "cell_type": "code",
   "execution_count": 6,
   "id": "50f323d2",
   "metadata": {},
   "outputs": [
    {
     "data": {
      "text/markdown": [
       " # The effect of magnesium supplementation on sleep quality: phase II"
      ],
      "text/plain": [
       "<IPython.core.display.Markdown object>"
      ]
     },
     "metadata": {},
     "output_type": "display_data"
    },
    {
     "data": {
      "text/markdown": [
       " \n"
      ],
      "text/plain": [
       "<IPython.core.display.Markdown object>"
      ]
     },
     "metadata": {},
     "output_type": "display_data"
    },
    {
     "data": {
      "text/markdown": [
       " Author: Peter Richens"
      ],
      "text/plain": [
       "<IPython.core.display.Markdown object>"
      ]
     },
     "metadata": {},
     "output_type": "display_data"
    },
    {
     "data": {
      "text/markdown": [
       " Date: 17 Jul 2021"
      ],
      "text/plain": [
       "<IPython.core.display.Markdown object>"
      ]
     },
     "metadata": {},
     "output_type": "display_data"
    },
    {
     "data": {
      "text/markdown": [
       " Keywords: magnesium, sleep, magnesium supplementation, insomnia, activity trackers, fitbit"
      ],
      "text/plain": [
       "<IPython.core.display.Markdown object>"
      ]
     },
     "metadata": {},
     "output_type": "display_data"
    },
    {
     "data": {
      "text/markdown": [
       " ## Design"
      ],
      "text/plain": [
       "<IPython.core.display.Markdown object>"
      ]
     },
     "metadata": {},
     "output_type": "display_data"
    },
    {
     "data": {
      "text/markdown": [
       " \n"
      ],
      "text/plain": [
       "<IPython.core.display.Markdown object>"
      ]
     },
     "metadata": {},
     "output_type": "display_data"
    },
    {
     "data": {
      "text/markdown": [
       " A randomised trial was conducted on 1 adult male (me). The patient's sleep episodes where randomly allocated into the magnesium group (which recieved 200 mg of magnesium lysinate glycinate chelate) or the control group. Sleep activity was tracked by the patient's Fitbit device."
      ],
      "text/plain": [
       "<IPython.core.display.Markdown object>"
      ]
     },
     "metadata": {},
     "output_type": "display_data"
    },
    {
     "data": {
      "text/markdown": [
       " See [related studies](https://peterjrichens.github.io/personal-rct/magnesium_sleep_may_2021.html)."
      ],
      "text/plain": [
       "<IPython.core.display.Markdown object>"
      ]
     },
     "metadata": {},
     "output_type": "display_data"
    },
    {
     "data": {
      "text/markdown": [
       " Source code available at: https://github.com/peterjrichens/personal-rct."
      ],
      "text/plain": [
       "<IPython.core.display.Markdown object>"
      ]
     },
     "metadata": {},
     "output_type": "display_data"
    },
    {
     "data": {
      "text/markdown": [
       " ## Results"
      ],
      "text/plain": [
       "<IPython.core.display.Markdown object>"
      ]
     },
     "metadata": {},
     "output_type": "display_data"
    },
    {
     "data": {
      "text/markdown": [
       " \n"
      ],
      "text/plain": [
       "<IPython.core.display.Markdown object>"
      ]
     },
     "metadata": {},
     "output_type": "display_data"
    },
    {
     "data": {
      "text/markdown": [
       "* The effect on composite sleep score was not statistically signficant."
      ],
      "text/plain": [
       "<IPython.core.display.Markdown object>"
      ]
     },
     "metadata": {},
     "output_type": "display_data"
    },
    {
     "data": {
      "text/markdown": [
       "* Magnesium had a 0.32 standard deviation decrease on total sleep duration relative to the control treatment (p value=0.011)."
      ],
      "text/plain": [
       "<IPython.core.display.Markdown object>"
      ]
     },
     "metadata": {},
     "output_type": "display_data"
    },
    {
     "data": {
      "text/markdown": [
       "* The effect on rem sleep duration was not statistically signficant."
      ],
      "text/plain": [
       "<IPython.core.display.Markdown object>"
      ]
     },
     "metadata": {},
     "output_type": "display_data"
    },
    {
     "data": {
      "text/markdown": [
       "* The effect on deep sleep duration was not statistically signficant."
      ],
      "text/plain": [
       "<IPython.core.display.Markdown object>"
      ]
     },
     "metadata": {},
     "output_type": "display_data"
    },
    {
     "data": {
      "application/javascript": [
       "\n",
       "            setTimeout(function() {\n",
       "                var nbb_cell_id = 6;\n",
       "                var nbb_unformatted_code = \"display(Markdown(f\\\" # {report['title']}\\\"))\\ndisplay(Markdown(f\\\" \\\\n\\\"))\\n\\ndisplay(Markdown(f\\\" Author: {report['author']}\\\"))\\ndisplay(Markdown(f\\\" Date: {time.strftime('%d %b %Y')}\\\"))\\n\\ndisplay(Markdown(f\\\" Keywords: {', '.join(report['keywords'])}\\\"))\\n\\ndisplay(Markdown(f\\\" ## Design\\\"))\\ndisplay(Markdown(f\\\" \\\\n\\\"))\\ndisplay(Markdown(f\\\" {report['design']}\\\"))\\ndisplay(Markdown(f\\\" See [related studies]({report['related_studies']}).\\\"))\\ndisplay(Markdown(f\\\" Source code available at: {report['source']}.\\\"))\\n\\ndisplay(Markdown(f\\\" ## Results\\\"))\\ndisplay(Markdown(f\\\" \\\\n\\\"))\\nfor result in results:\\n    display(Markdown(f\\\"* {result}\\\"))\";\n",
       "                var nbb_formatted_code = \"display(Markdown(f\\\" # {report['title']}\\\"))\\ndisplay(Markdown(f\\\" \\\\n\\\"))\\n\\ndisplay(Markdown(f\\\" Author: {report['author']}\\\"))\\ndisplay(Markdown(f\\\" Date: {time.strftime('%d %b %Y')}\\\"))\\n\\ndisplay(Markdown(f\\\" Keywords: {', '.join(report['keywords'])}\\\"))\\n\\ndisplay(Markdown(f\\\" ## Design\\\"))\\ndisplay(Markdown(f\\\" \\\\n\\\"))\\ndisplay(Markdown(f\\\" {report['design']}\\\"))\\ndisplay(Markdown(f\\\" See [related studies]({report['related_studies']}).\\\"))\\ndisplay(Markdown(f\\\" Source code available at: {report['source']}.\\\"))\\n\\ndisplay(Markdown(f\\\" ## Results\\\"))\\ndisplay(Markdown(f\\\" \\\\n\\\"))\\nfor result in results:\\n    display(Markdown(f\\\"* {result}\\\"))\";\n",
       "                var nbb_cells = Jupyter.notebook.get_cells();\n",
       "                for (var i = 0; i < nbb_cells.length; ++i) {\n",
       "                    if (nbb_cells[i].input_prompt_number == nbb_cell_id) {\n",
       "                        if (nbb_cells[i].get_text() == nbb_unformatted_code) {\n",
       "                             nbb_cells[i].set_text(nbb_formatted_code);\n",
       "                        }\n",
       "                        break;\n",
       "                    }\n",
       "                }\n",
       "            }, 500);\n",
       "            "
      ],
      "text/plain": [
       "<IPython.core.display.Javascript object>"
      ]
     },
     "metadata": {},
     "output_type": "display_data"
    }
   ],
   "source": [
    "display(Markdown(f\" # {report['title']}\"))\n",
    "display(Markdown(f\" \\n\"))\n",
    "\n",
    "display(Markdown(f\" Author: {report['author']}\"))\n",
    "display(Markdown(f\" Date: {time.strftime('%d %b %Y')}\"))\n",
    "\n",
    "display(Markdown(f\" Keywords: {', '.join(report['keywords'])}\"))\n",
    "\n",
    "display(Markdown(f\" ## Design\"))\n",
    "display(Markdown(f\" \\n\"))\n",
    "display(Markdown(f\" {report['design']}\"))\n",
    "display(Markdown(f\" See [related studies]({report['related_studies']}).\"))\n",
    "display(Markdown(f\" Source code available at: {report['source']}.\"))\n",
    "\n",
    "display(Markdown(f\" ## Results\"))\n",
    "display(Markdown(f\" \\n\"))\n",
    "for result in results:\n",
    "    display(Markdown(f\"* {result}\"))"
   ]
  },
  {
   "cell_type": "markdown",
   "id": "de451ba5",
   "metadata": {},
   "source": [
    "## Sample size"
   ]
  },
  {
   "cell_type": "code",
   "execution_count": 7,
   "id": "1b5dfc9b",
   "metadata": {},
   "outputs": [
    {
     "data": {
      "text/html": [
       "<div>\n",
       "<style scoped>\n",
       "    .dataframe tbody tr th:only-of-type {\n",
       "        vertical-align: middle;\n",
       "    }\n",
       "\n",
       "    .dataframe tbody tr th {\n",
       "        vertical-align: top;\n",
       "    }\n",
       "\n",
       "    .dataframe thead th {\n",
       "        text-align: right;\n",
       "    }\n",
       "</style>\n",
       "<table border=\"1\" class=\"dataframe\">\n",
       "  <thead>\n",
       "    <tr style=\"text-align: right;\">\n",
       "      <th></th>\n",
       "      <th>number_of_days</th>\n",
       "    </tr>\n",
       "  </thead>\n",
       "  <tbody>\n",
       "    <tr>\n",
       "      <th>control</th>\n",
       "      <td>24</td>\n",
       "    </tr>\n",
       "    <tr>\n",
       "      <th>magnesium</th>\n",
       "      <td>21</td>\n",
       "    </tr>\n",
       "    <tr>\n",
       "      <th>total</th>\n",
       "      <td>45</td>\n",
       "    </tr>\n",
       "  </tbody>\n",
       "</table>\n",
       "</div>"
      ],
      "text/plain": [
       "           number_of_days\n",
       "control                24\n",
       "magnesium              21\n",
       "total                  45"
      ]
     },
     "execution_count": 7,
     "metadata": {},
     "output_type": "execute_result"
    },
    {
     "data": {
      "application/javascript": [
       "\n",
       "            setTimeout(function() {\n",
       "                var nbb_cell_id = 7;\n",
       "                var nbb_unformatted_code = \"sample_size = (\\n    df[df.experiment_active]\\n    .treatment.value_counts()\\n    .rename(\\\"number_of_days\\\")\\n    .to_frame()\\n)\\nsample_size.loc[\\\"total\\\"] = sample_size.sum()\\nsample_size\";\n",
       "                var nbb_formatted_code = \"sample_size = (\\n    df[df.experiment_active]\\n    .treatment.value_counts()\\n    .rename(\\\"number_of_days\\\")\\n    .to_frame()\\n)\\nsample_size.loc[\\\"total\\\"] = sample_size.sum()\\nsample_size\";\n",
       "                var nbb_cells = Jupyter.notebook.get_cells();\n",
       "                for (var i = 0; i < nbb_cells.length; ++i) {\n",
       "                    if (nbb_cells[i].input_prompt_number == nbb_cell_id) {\n",
       "                        if (nbb_cells[i].get_text() == nbb_unformatted_code) {\n",
       "                             nbb_cells[i].set_text(nbb_formatted_code);\n",
       "                        }\n",
       "                        break;\n",
       "                    }\n",
       "                }\n",
       "            }, 500);\n",
       "            "
      ],
      "text/plain": [
       "<IPython.core.display.Javascript object>"
      ]
     },
     "metadata": {},
     "output_type": "display_data"
    }
   ],
   "source": [
    "sample_size = (\n",
    "    df[df.experiment_active]\n",
    "    .treatment.value_counts()\n",
    "    .rename(\"number_of_days\")\n",
    "    .to_frame()\n",
    ")\n",
    "sample_size.loc[\"total\"] = sample_size.sum()\n",
    "sample_size"
   ]
  },
  {
   "cell_type": "markdown",
   "id": "eb324436",
   "metadata": {},
   "source": [
    "## Summary statistics during pre-experiment baseline"
   ]
  },
  {
   "cell_type": "code",
   "execution_count": 8,
   "id": "6bb90c1e",
   "metadata": {},
   "outputs": [
    {
     "data": {
      "text/html": [
       "<div>\n",
       "<style scoped>\n",
       "    .dataframe tbody tr th:only-of-type {\n",
       "        vertical-align: middle;\n",
       "    }\n",
       "\n",
       "    .dataframe tbody tr th {\n",
       "        vertical-align: top;\n",
       "    }\n",
       "\n",
       "    .dataframe thead th {\n",
       "        text-align: right;\n",
       "    }\n",
       "</style>\n",
       "<table border=\"1\" class=\"dataframe\">\n",
       "  <thead>\n",
       "    <tr style=\"text-align: right;\">\n",
       "      <th></th>\n",
       "      <th>count</th>\n",
       "      <th>mean</th>\n",
       "      <th>std</th>\n",
       "      <th>min</th>\n",
       "      <th>25%</th>\n",
       "      <th>50%</th>\n",
       "      <th>75%</th>\n",
       "      <th>max</th>\n",
       "    </tr>\n",
       "  </thead>\n",
       "  <tbody>\n",
       "    <tr>\n",
       "      <th>total_sleep_duration</th>\n",
       "      <td>29.0</td>\n",
       "      <td>463.517241</td>\n",
       "      <td>35.668734</td>\n",
       "      <td>403.00</td>\n",
       "      <td>448.00</td>\n",
       "      <td>462.00</td>\n",
       "      <td>484.00</td>\n",
       "      <td>555.00</td>\n",
       "    </tr>\n",
       "    <tr>\n",
       "      <th>deep_sleep_duration</th>\n",
       "      <td>29.0</td>\n",
       "      <td>72.758621</td>\n",
       "      <td>21.423710</td>\n",
       "      <td>22.00</td>\n",
       "      <td>62.00</td>\n",
       "      <td>74.00</td>\n",
       "      <td>87.00</td>\n",
       "      <td>118.00</td>\n",
       "    </tr>\n",
       "    <tr>\n",
       "      <th>rem_sleep_duration</th>\n",
       "      <td>29.0</td>\n",
       "      <td>110.206897</td>\n",
       "      <td>26.065000</td>\n",
       "      <td>66.00</td>\n",
       "      <td>93.00</td>\n",
       "      <td>108.00</td>\n",
       "      <td>134.00</td>\n",
       "      <td>152.00</td>\n",
       "    </tr>\n",
       "    <tr>\n",
       "      <th>sleep_start_time</th>\n",
       "      <td>29.0</td>\n",
       "      <td>-33.051724</td>\n",
       "      <td>52.190986</td>\n",
       "      <td>-120.50</td>\n",
       "      <td>-74.50</td>\n",
       "      <td>-44.00</td>\n",
       "      <td>-4.00</td>\n",
       "      <td>99.50</td>\n",
       "    </tr>\n",
       "    <tr>\n",
       "      <th>composite_sleep_score</th>\n",
       "      <td>30.0</td>\n",
       "      <td>81.766667</td>\n",
       "      <td>5.069743</td>\n",
       "      <td>70.00</td>\n",
       "      <td>78.50</td>\n",
       "      <td>82.00</td>\n",
       "      <td>85.75</td>\n",
       "      <td>90.00</td>\n",
       "    </tr>\n",
       "    <tr>\n",
       "      <th>steps</th>\n",
       "      <td>30.0</td>\n",
       "      <td>5220.366667</td>\n",
       "      <td>2930.243999</td>\n",
       "      <td>308.00</td>\n",
       "      <td>2698.75</td>\n",
       "      <td>5131.00</td>\n",
       "      <td>7241.25</td>\n",
       "      <td>12205.00</td>\n",
       "    </tr>\n",
       "    <tr>\n",
       "      <th>calories</th>\n",
       "      <td>30.0</td>\n",
       "      <td>2317.269333</td>\n",
       "      <td>314.401309</td>\n",
       "      <td>1671.44</td>\n",
       "      <td>2133.45</td>\n",
       "      <td>2289.31</td>\n",
       "      <td>2474.36</td>\n",
       "      <td>3283.53</td>\n",
       "    </tr>\n",
       "  </tbody>\n",
       "</table>\n",
       "</div>"
      ],
      "text/plain": [
       "                       count         mean          std      min      25%  \\\n",
       "total_sleep_duration    29.0   463.517241    35.668734   403.00   448.00   \n",
       "deep_sleep_duration     29.0    72.758621    21.423710    22.00    62.00   \n",
       "rem_sleep_duration      29.0   110.206897    26.065000    66.00    93.00   \n",
       "sleep_start_time        29.0   -33.051724    52.190986  -120.50   -74.50   \n",
       "composite_sleep_score   30.0    81.766667     5.069743    70.00    78.50   \n",
       "steps                   30.0  5220.366667  2930.243999   308.00  2698.75   \n",
       "calories                30.0  2317.269333   314.401309  1671.44  2133.45   \n",
       "\n",
       "                           50%      75%       max  \n",
       "total_sleep_duration    462.00   484.00    555.00  \n",
       "deep_sleep_duration      74.00    87.00    118.00  \n",
       "rem_sleep_duration      108.00   134.00    152.00  \n",
       "sleep_start_time        -44.00    -4.00     99.50  \n",
       "composite_sleep_score    82.00    85.75     90.00  \n",
       "steps                  5131.00  7241.25  12205.00  \n",
       "calories               2289.31  2474.36   3283.53  "
      ]
     },
     "execution_count": 8,
     "metadata": {},
     "output_type": "execute_result"
    },
    {
     "data": {
      "application/javascript": [
       "\n",
       "            setTimeout(function() {\n",
       "                var nbb_cell_id = 8;\n",
       "                var nbb_unformatted_code = \"df[df.experiment_active == False].describe().transpose()\";\n",
       "                var nbb_formatted_code = \"df[df.experiment_active == False].describe().transpose()\";\n",
       "                var nbb_cells = Jupyter.notebook.get_cells();\n",
       "                for (var i = 0; i < nbb_cells.length; ++i) {\n",
       "                    if (nbb_cells[i].input_prompt_number == nbb_cell_id) {\n",
       "                        if (nbb_cells[i].get_text() == nbb_unformatted_code) {\n",
       "                             nbb_cells[i].set_text(nbb_formatted_code);\n",
       "                        }\n",
       "                        break;\n",
       "                    }\n",
       "                }\n",
       "            }, 500);\n",
       "            "
      ],
      "text/plain": [
       "<IPython.core.display.Javascript object>"
      ]
     },
     "metadata": {},
     "output_type": "display_data"
    }
   ],
   "source": [
    "df[df.experiment_active == False].describe().transpose()"
   ]
  },
  {
   "cell_type": "markdown",
   "id": "c5c35650",
   "metadata": {},
   "source": [
    "## Summary statistics during experiment period"
   ]
  },
  {
   "cell_type": "code",
   "execution_count": 9,
   "id": "0d2411b7",
   "metadata": {},
   "outputs": [
    {
     "data": {
      "text/html": [
       "<div>\n",
       "<style scoped>\n",
       "    .dataframe tbody tr th:only-of-type {\n",
       "        vertical-align: middle;\n",
       "    }\n",
       "\n",
       "    .dataframe tbody tr th {\n",
       "        vertical-align: top;\n",
       "    }\n",
       "\n",
       "    .dataframe thead th {\n",
       "        text-align: right;\n",
       "    }\n",
       "</style>\n",
       "<table border=\"1\" class=\"dataframe\">\n",
       "  <thead>\n",
       "    <tr style=\"text-align: right;\">\n",
       "      <th></th>\n",
       "      <th>count</th>\n",
       "      <th>mean</th>\n",
       "      <th>std</th>\n",
       "      <th>min</th>\n",
       "      <th>25%</th>\n",
       "      <th>50%</th>\n",
       "      <th>75%</th>\n",
       "      <th>max</th>\n",
       "    </tr>\n",
       "  </thead>\n",
       "  <tbody>\n",
       "    <tr>\n",
       "      <th>total_sleep_duration</th>\n",
       "      <td>42.0</td>\n",
       "      <td>448.166667</td>\n",
       "      <td>59.371882</td>\n",
       "      <td>205.00</td>\n",
       "      <td>416.25</td>\n",
       "      <td>458.00</td>\n",
       "      <td>490.75</td>\n",
       "      <td>537.00</td>\n",
       "    </tr>\n",
       "    <tr>\n",
       "      <th>deep_sleep_duration</th>\n",
       "      <td>42.0</td>\n",
       "      <td>78.333333</td>\n",
       "      <td>17.419735</td>\n",
       "      <td>28.00</td>\n",
       "      <td>67.00</td>\n",
       "      <td>80.00</td>\n",
       "      <td>88.25</td>\n",
       "      <td>130.00</td>\n",
       "    </tr>\n",
       "    <tr>\n",
       "      <th>rem_sleep_duration</th>\n",
       "      <td>42.0</td>\n",
       "      <td>108.595238</td>\n",
       "      <td>29.209971</td>\n",
       "      <td>11.00</td>\n",
       "      <td>93.50</td>\n",
       "      <td>109.00</td>\n",
       "      <td>128.00</td>\n",
       "      <td>172.00</td>\n",
       "    </tr>\n",
       "    <tr>\n",
       "      <th>sleep_start_time</th>\n",
       "      <td>42.0</td>\n",
       "      <td>-10.500000</td>\n",
       "      <td>62.819428</td>\n",
       "      <td>-92.50</td>\n",
       "      <td>-47.00</td>\n",
       "      <td>-16.25</td>\n",
       "      <td>6.75</td>\n",
       "      <td>289.00</td>\n",
       "    </tr>\n",
       "    <tr>\n",
       "      <th>composite_sleep_score</th>\n",
       "      <td>42.0</td>\n",
       "      <td>82.619048</td>\n",
       "      <td>6.148378</td>\n",
       "      <td>65.00</td>\n",
       "      <td>79.50</td>\n",
       "      <td>84.00</td>\n",
       "      <td>86.00</td>\n",
       "      <td>92.00</td>\n",
       "    </tr>\n",
       "    <tr>\n",
       "      <th>steps</th>\n",
       "      <td>45.0</td>\n",
       "      <td>5794.777778</td>\n",
       "      <td>3127.193230</td>\n",
       "      <td>2083.00</td>\n",
       "      <td>3277.00</td>\n",
       "      <td>4966.00</td>\n",
       "      <td>8369.00</td>\n",
       "      <td>13028.00</td>\n",
       "    </tr>\n",
       "    <tr>\n",
       "      <th>calories</th>\n",
       "      <td>45.0</td>\n",
       "      <td>2395.160667</td>\n",
       "      <td>270.646372</td>\n",
       "      <td>1969.15</td>\n",
       "      <td>2194.60</td>\n",
       "      <td>2351.20</td>\n",
       "      <td>2524.84</td>\n",
       "      <td>3078.27</td>\n",
       "    </tr>\n",
       "  </tbody>\n",
       "</table>\n",
       "</div>"
      ],
      "text/plain": [
       "                       count         mean          std      min      25%  \\\n",
       "total_sleep_duration    42.0   448.166667    59.371882   205.00   416.25   \n",
       "deep_sleep_duration     42.0    78.333333    17.419735    28.00    67.00   \n",
       "rem_sleep_duration      42.0   108.595238    29.209971    11.00    93.50   \n",
       "sleep_start_time        42.0   -10.500000    62.819428   -92.50   -47.00   \n",
       "composite_sleep_score   42.0    82.619048     6.148378    65.00    79.50   \n",
       "steps                   45.0  5794.777778  3127.193230  2083.00  3277.00   \n",
       "calories                45.0  2395.160667   270.646372  1969.15  2194.60   \n",
       "\n",
       "                           50%      75%       max  \n",
       "total_sleep_duration    458.00   490.75    537.00  \n",
       "deep_sleep_duration      80.00    88.25    130.00  \n",
       "rem_sleep_duration      109.00   128.00    172.00  \n",
       "sleep_start_time        -16.25     6.75    289.00  \n",
       "composite_sleep_score    84.00    86.00     92.00  \n",
       "steps                  4966.00  8369.00  13028.00  \n",
       "calories               2351.20  2524.84   3078.27  "
      ]
     },
     "execution_count": 9,
     "metadata": {},
     "output_type": "execute_result"
    },
    {
     "data": {
      "application/javascript": [
       "\n",
       "            setTimeout(function() {\n",
       "                var nbb_cell_id = 9;\n",
       "                var nbb_unformatted_code = \"df[df.experiment_active].describe().transpose()\";\n",
       "                var nbb_formatted_code = \"df[df.experiment_active].describe().transpose()\";\n",
       "                var nbb_cells = Jupyter.notebook.get_cells();\n",
       "                for (var i = 0; i < nbb_cells.length; ++i) {\n",
       "                    if (nbb_cells[i].input_prompt_number == nbb_cell_id) {\n",
       "                        if (nbb_cells[i].get_text() == nbb_unformatted_code) {\n",
       "                             nbb_cells[i].set_text(nbb_formatted_code);\n",
       "                        }\n",
       "                        break;\n",
       "                    }\n",
       "                }\n",
       "            }, 500);\n",
       "            "
      ],
      "text/plain": [
       "<IPython.core.display.Javascript object>"
      ]
     },
     "metadata": {},
     "output_type": "display_data"
    }
   ],
   "source": [
    "df[df.experiment_active].describe().transpose()"
   ]
  },
  {
   "cell_type": "markdown",
   "id": "8803e704",
   "metadata": {},
   "source": [
    "## Outcome variables over time\n",
    "\n",
    "Red line shows start of experiment period."
   ]
  },
  {
   "cell_type": "code",
   "execution_count": 10,
   "id": "6cf659d8",
   "metadata": {
    "scrolled": false
   },
   "outputs": [
    {
     "data": {
      "image/png": "[encoded data removed]",
      "text/plain": [
       "<Figure size 1080x1152 with 4 Axes>"
      ]
     },
     "metadata": {
      "needs_background": "light"
     },
     "output_type": "display_data"
    },
    {
     "data": {
      "application/javascript": [
       "\n",
       "            setTimeout(function() {\n",
       "                var nbb_cell_id = 10;\n",
       "                var nbb_unformatted_code = \"num_plots = len(model[\\\"dependent_variables\\\"])\\ndims = (15, 4 * num_plots)\\n_, axes = plt.subplots(num_plots, figsize=dims, sharex=True)\\nfor ax, v in zip(axes, model[\\\"dependent_variables\\\"]):\\n    g = sns.lineplot(\\\"treatment_date\\\", v, data=df, ax=ax)\\n    g = g.set(ylim=(0, df[v].max()*1.2))\\n    ax.axvline(df[df.experiment_active].treatment_date.min(), c='r')\";\n",
       "                var nbb_formatted_code = \"num_plots = len(model[\\\"dependent_variables\\\"])\\ndims = (15, 4 * num_plots)\\n_, axes = plt.subplots(num_plots, figsize=dims, sharex=True)\\nfor ax, v in zip(axes, model[\\\"dependent_variables\\\"]):\\n    g = sns.lineplot(\\\"treatment_date\\\", v, data=df, ax=ax)\\n    g = g.set(ylim=(0, df[v].max() * 1.2))\\n    ax.axvline(df[df.experiment_active].treatment_date.min(), c=\\\"r\\\")\";\n",
       "                var nbb_cells = Jupyter.notebook.get_cells();\n",
       "                for (var i = 0; i < nbb_cells.length; ++i) {\n",
       "                    if (nbb_cells[i].input_prompt_number == nbb_cell_id) {\n",
       "                        if (nbb_cells[i].get_text() == nbb_unformatted_code) {\n",
       "                             nbb_cells[i].set_text(nbb_formatted_code);\n",
       "                        }\n",
       "                        break;\n",
       "                    }\n",
       "                }\n",
       "            }, 500);\n",
       "            "
      ],
      "text/plain": [
       "<IPython.core.display.Javascript object>"
      ]
     },
     "metadata": {},
     "output_type": "display_data"
    }
   ],
   "source": [
    "num_plots = len(model[\"dependent_variables\"])\n",
    "dims = (15, 4 * num_plots)\n",
    "_, axes = plt.subplots(num_plots, figsize=dims, sharex=True)\n",
    "for ax, v in zip(axes, model[\"dependent_variables\"]):\n",
    "    g = sns.lineplot(\"treatment_date\", v, data=df, ax=ax)\n",
    "    g = g.set(ylim=(0, df[v].max()*1.2))\n",
    "    ax.axvline(df[df.experiment_active].treatment_date.min(), c='r')\n"
   ]
  },
  {
   "cell_type": "markdown",
   "id": "d3bbba4a",
   "metadata": {},
   "source": [
    "## Regression results"
   ]
  },
  {
   "cell_type": "code",
   "execution_count": 12,
   "id": "f9166dbc",
   "metadata": {
    "scrolled": false
   },
   "outputs": [
    {
     "data": {
      "text/markdown": [
       "### Results for composite sleep score"
      ],
      "text/plain": [
       "<IPython.core.display.Markdown object>"
      ]
     },
     "metadata": {},
     "output_type": "display_data"
    },
    {
     "data": {
      "text/markdown": [
       "The effect on composite sleep score was not statistically signficant."
      ],
      "text/plain": [
       "<IPython.core.display.Markdown object>"
      ]
     },
     "metadata": {},
     "output_type": "display_data"
    },
    {
     "data": {
      "text/html": [
       "<table class=\"simpletable\">\n",
       "<caption>OLS Regression Results</caption>\n",
       "<tr>\n",
       "  <th>Dep. Variable:</th>    <td>standardize(composite_sleep_score)</td> <th>  R-squared:         </th> <td>   0.384</td>\n",
       "</tr>\n",
       "<tr>\n",
       "  <th>Model:</th>                            <td>OLS</td>                <th>  Adj. R-squared:    </th> <td>   0.185</td>\n",
       "</tr>\n",
       "<tr>\n",
       "  <th>Method:</th>                      <td>Least Squares</td>           <th>  F-statistic:       </th> <td>   9.277</td>\n",
       "</tr>\n",
       "<tr>\n",
       "  <th>Date:</th>                      <td>Sat, 17 Jul 2021</td>          <th>  Prob (F-statistic):</th> <td>7.13e-07</td>\n",
       "</tr>\n",
       "<tr>\n",
       "  <th>Time:</th>                          <td>15:37:56</td>              <th>  Log-Likelihood:    </th> <td> -49.423</td>\n",
       "</tr>\n",
       "<tr>\n",
       "  <th>No. Observations:</th>               <td>    42</td>               <th>  AIC:               </th> <td>   120.8</td>\n",
       "</tr>\n",
       "<tr>\n",
       "  <th>Df Residuals:</th>                   <td>    31</td>               <th>  BIC:               </th> <td>   140.0</td>\n",
       "</tr>\n",
       "<tr>\n",
       "  <th>Df Model:</th>                       <td>    10</td>               <th>                     </th>     <td> </td>   \n",
       "</tr>\n",
       "<tr>\n",
       "  <th>Covariance Type:</th>                  <td>HAC</td>                <th>                     </th>     <td> </td>   \n",
       "</tr>\n",
       "</table>\n",
       "<table class=\"simpletable\">\n",
       "<tr>\n",
       "                              <td></td>                                 <th>coef</th>     <th>std err</th>      <th>z</th>      <th>P>|z|</th>  <th>[0.025</th>    <th>0.975]</th>  \n",
       "</tr>\n",
       "<tr>\n",
       "  <th>Intercept</th>                                                 <td>    0.0065</td> <td>    0.273</td> <td>    0.024</td> <td> 0.981</td> <td>   -0.528</td> <td>    0.541</td>\n",
       "</tr>\n",
       "<tr>\n",
       "  <th>C(treatment, Treatment(reference='control'))[T.magnesium]</th> <td>   -0.3713</td> <td>    0.236</td> <td>   -1.575</td> <td> 0.115</td> <td>   -0.833</td> <td>    0.091</td>\n",
       "</tr>\n",
       "<tr>\n",
       "  <th>C(day_of_week)[T.Monday]</th>                                  <td>    0.1473</td> <td>    0.387</td> <td>    0.380</td> <td> 0.704</td> <td>   -0.612</td> <td>    0.907</td>\n",
       "</tr>\n",
       "<tr>\n",
       "  <th>C(day_of_week)[T.Saturday]</th>                                <td>    1.1475</td> <td>    0.267</td> <td>    4.294</td> <td> 0.000</td> <td>    0.624</td> <td>    1.671</td>\n",
       "</tr>\n",
       "<tr>\n",
       "  <th>C(day_of_week)[T.Sunday]</th>                                  <td>    0.2899</td> <td>    0.394</td> <td>    0.735</td> <td> 0.462</td> <td>   -0.483</td> <td>    1.063</td>\n",
       "</tr>\n",
       "<tr>\n",
       "  <th>C(day_of_week)[T.Thursday]</th>                                <td>   -0.4599</td> <td>    0.484</td> <td>   -0.949</td> <td> 0.342</td> <td>   -1.409</td> <td>    0.490</td>\n",
       "</tr>\n",
       "<tr>\n",
       "  <th>C(day_of_week)[T.Tuesday]</th>                                 <td>   -0.4473</td> <td>    0.561</td> <td>   -0.797</td> <td> 0.425</td> <td>   -1.547</td> <td>    0.652</td>\n",
       "</tr>\n",
       "<tr>\n",
       "  <th>C(day_of_week)[T.Wednesday]</th>                               <td>    0.2826</td> <td>    0.444</td> <td>    0.636</td> <td> 0.525</td> <td>   -0.588</td> <td>    1.153</td>\n",
       "</tr>\n",
       "<tr>\n",
       "  <th>standardize(sleep_start_time)</th>                             <td>   -0.6537</td> <td>    0.117</td> <td>   -5.601</td> <td> 0.000</td> <td>   -0.882</td> <td>   -0.425</td>\n",
       "</tr>\n",
       "<tr>\n",
       "  <th>standardize(steps)</th>                                        <td>   -0.2749</td> <td>    0.292</td> <td>   -0.940</td> <td> 0.347</td> <td>   -0.848</td> <td>    0.298</td>\n",
       "</tr>\n",
       "<tr>\n",
       "  <th>standardize(calories)</th>                                     <td>    0.1000</td> <td>    0.324</td> <td>    0.308</td> <td> 0.758</td> <td>   -0.535</td> <td>    0.735</td>\n",
       "</tr>\n",
       "</table>\n",
       "<table class=\"simpletable\">\n",
       "<tr>\n",
       "  <th>Omnibus:</th>       <td> 8.057</td> <th>  Durbin-Watson:     </th> <td>   1.843</td>\n",
       "</tr>\n",
       "<tr>\n",
       "  <th>Prob(Omnibus):</th> <td> 0.018</td> <th>  Jarque-Bera (JB):  </th> <td>   6.895</td>\n",
       "</tr>\n",
       "<tr>\n",
       "  <th>Skew:</th>          <td>-0.867</td> <th>  Prob(JB):          </th> <td>  0.0318</td>\n",
       "</tr>\n",
       "<tr>\n",
       "  <th>Kurtosis:</th>      <td> 3.965</td> <th>  Cond. No.          </th> <td>    11.9</td>\n",
       "</tr>\n",
       "</table><br/><br/>Notes:<br/>[1] Standard Errors are heteroscedasticity and autocorrelation robust (HAC) using 1 lags and without small sample correction"
      ],
      "text/plain": [
       "<class 'statsmodels.iolib.summary.Summary'>\n",
       "\"\"\"\n",
       "                                    OLS Regression Results                                    \n",
       "==============================================================================================\n",
       "Dep. Variable:     standardize(composite_sleep_score)   R-squared:                       0.384\n",
       "Model:                                            OLS   Adj. R-squared:                  0.185\n",
       "Method:                                 Least Squares   F-statistic:                     9.277\n",
       "Date:                                Sat, 17 Jul 2021   Prob (F-statistic):           7.13e-07\n",
       "Time:                                        15:37:56   Log-Likelihood:                -49.423\n",
       "No. Observations:                                  42   AIC:                             120.8\n",
       "Df Residuals:                                      31   BIC:                             140.0\n",
       "Df Model:                                          10                                         \n",
       "Covariance Type:                                  HAC                                         \n",
       "=============================================================================================================================\n",
       "                                                                coef    std err          z      P>|z|      [0.025      0.975]\n",
       "-----------------------------------------------------------------------------------------------------------------------------\n",
       "Intercept                                                     0.0065      0.273      0.024      0.981      -0.528       0.541\n",
       "C(treatment, Treatment(reference='control'))[T.magnesium]    -0.3713      0.236     -1.575      0.115      -0.833       0.091\n",
       "C(day_of_week)[T.Monday]                                      0.1473      0.387      0.380      0.704      -0.612       0.907\n",
       "C(day_of_week)[T.Saturday]                                    1.1475      0.267      4.294      0.000       0.624       1.671\n",
       "C(day_of_week)[T.Sunday]                                      0.2899      0.394      0.735      0.462      -0.483       1.063\n",
       "C(day_of_week)[T.Thursday]                                   -0.4599      0.484     -0.949      0.342      -1.409       0.490\n",
       "C(day_of_week)[T.Tuesday]                                    -0.4473      0.561     -0.797      0.425      -1.547       0.652\n",
       "C(day_of_week)[T.Wednesday]                                   0.2826      0.444      0.636      0.525      -0.588       1.153\n",
       "standardize(sleep_start_time)                                -0.6537      0.117     -5.601      0.000      -0.882      -0.425\n",
       "standardize(steps)                                           -0.2749      0.292     -0.940      0.347      -0.848       0.298\n",
       "standardize(calories)                                         0.1000      0.324      0.308      0.758      -0.535       0.735\n",
       "==============================================================================\n",
       "Omnibus:                        8.057   Durbin-Watson:                   1.843\n",
       "Prob(Omnibus):                  0.018   Jarque-Bera (JB):                6.895\n",
       "Skew:                          -0.867   Prob(JB):                       0.0318\n",
       "Kurtosis:                       3.965   Cond. No.                         11.9\n",
       "==============================================================================\n",
       "\n",
       "Notes:\n",
       "[1] Standard Errors are heteroscedasticity and autocorrelation robust (HAC) using 1 lags and without small sample correction\n",
       "\"\"\""
      ]
     },
     "metadata": {},
     "output_type": "display_data"
    },
    {
     "data": {
      "text/markdown": [
       "### Results for total sleep duration"
      ],
      "text/plain": [
       "<IPython.core.display.Markdown object>"
      ]
     },
     "metadata": {},
     "output_type": "display_data"
    },
    {
     "data": {
      "text/markdown": [
       "Magnesium had a 0.32 standard deviation decrease on total sleep duration relative to the control treatment (p value=0.011)."
      ],
      "text/plain": [
       "<IPython.core.display.Markdown object>"
      ]
     },
     "metadata": {},
     "output_type": "display_data"
    },
    {
     "data": {
      "text/html": [
       "<table class=\"simpletable\">\n",
       "<caption>OLS Regression Results</caption>\n",
       "<tr>\n",
       "  <th>Dep. Variable:</th>    <td>standardize(total_sleep_duration)</td> <th>  R-squared:         </th> <td>   0.774</td>\n",
       "</tr>\n",
       "<tr>\n",
       "  <th>Model:</th>                           <td>OLS</td>                <th>  Adj. R-squared:    </th> <td>   0.701</td>\n",
       "</tr>\n",
       "<tr>\n",
       "  <th>Method:</th>                     <td>Least Squares</td>           <th>  F-statistic:       </th> <td>   38.73</td>\n",
       "</tr>\n",
       "<tr>\n",
       "  <th>Date:</th>                     <td>Sat, 17 Jul 2021</td>          <th>  Prob (F-statistic):</th> <td>9.89e-15</td>\n",
       "</tr>\n",
       "<tr>\n",
       "  <th>Time:</th>                         <td>15:37:56</td>              <th>  Log-Likelihood:    </th> <td> -28.354</td>\n",
       "</tr>\n",
       "<tr>\n",
       "  <th>No. Observations:</th>              <td>    42</td>               <th>  AIC:               </th> <td>   78.71</td>\n",
       "</tr>\n",
       "<tr>\n",
       "  <th>Df Residuals:</th>                  <td>    31</td>               <th>  BIC:               </th> <td>   97.82</td>\n",
       "</tr>\n",
       "<tr>\n",
       "  <th>Df Model:</th>                      <td>    10</td>               <th>                     </th>     <td> </td>   \n",
       "</tr>\n",
       "<tr>\n",
       "  <th>Covariance Type:</th>                 <td>HAC</td>                <th>                     </th>     <td> </td>   \n",
       "</tr>\n",
       "</table>\n",
       "<table class=\"simpletable\">\n",
       "<tr>\n",
       "                              <td></td>                                 <th>coef</th>     <th>std err</th>      <th>z</th>      <th>P>|z|</th>  <th>[0.025</th>    <th>0.975]</th>  \n",
       "</tr>\n",
       "<tr>\n",
       "  <th>Intercept</th>                                                 <td>   -0.0183</td> <td>    0.316</td> <td>   -0.058</td> <td> 0.954</td> <td>   -0.638</td> <td>    0.602</td>\n",
       "</tr>\n",
       "<tr>\n",
       "  <th>C(treatment, Treatment(reference='control'))[T.magnesium]</th> <td>   -0.3151</td> <td>    0.124</td> <td>   -2.545</td> <td> 0.011</td> <td>   -0.558</td> <td>   -0.072</td>\n",
       "</tr>\n",
       "<tr>\n",
       "  <th>C(day_of_week)[T.Monday]</th>                                  <td>    0.1638</td> <td>    0.356</td> <td>    0.460</td> <td> 0.645</td> <td>   -0.534</td> <td>    0.861</td>\n",
       "</tr>\n",
       "<tr>\n",
       "  <th>C(day_of_week)[T.Saturday]</th>                                <td>    1.1831</td> <td>    0.295</td> <td>    4.017</td> <td> 0.000</td> <td>    0.606</td> <td>    1.760</td>\n",
       "</tr>\n",
       "<tr>\n",
       "  <th>C(day_of_week)[T.Sunday]</th>                                  <td>    0.2131</td> <td>    0.326</td> <td>    0.653</td> <td> 0.514</td> <td>   -0.427</td> <td>    0.853</td>\n",
       "</tr>\n",
       "<tr>\n",
       "  <th>C(day_of_week)[T.Thursday]</th>                                <td>   -0.2582</td> <td>    0.391</td> <td>   -0.661</td> <td> 0.509</td> <td>   -1.024</td> <td>    0.508</td>\n",
       "</tr>\n",
       "<tr>\n",
       "  <th>C(day_of_week)[T.Tuesday]</th>                                 <td>   -0.4781</td> <td>    0.368</td> <td>   -1.300</td> <td> 0.194</td> <td>   -1.199</td> <td>    0.243</td>\n",
       "</tr>\n",
       "<tr>\n",
       "  <th>C(day_of_week)[T.Wednesday]</th>                               <td>    0.1598</td> <td>    0.321</td> <td>    0.497</td> <td> 0.619</td> <td>   -0.470</td> <td>    0.789</td>\n",
       "</tr>\n",
       "<tr>\n",
       "  <th>standardize(sleep_start_time)</th>                             <td>   -0.9517</td> <td>    0.073</td> <td>  -13.086</td> <td> 0.000</td> <td>   -1.094</td> <td>   -0.809</td>\n",
       "</tr>\n",
       "<tr>\n",
       "  <th>standardize(steps)</th>                                        <td>   -0.3344</td> <td>    0.180</td> <td>   -1.854</td> <td> 0.064</td> <td>   -0.688</td> <td>    0.019</td>\n",
       "</tr>\n",
       "<tr>\n",
       "  <th>standardize(calories)</th>                                     <td>    0.2325</td> <td>    0.177</td> <td>    1.310</td> <td> 0.190</td> <td>   -0.115</td> <td>    0.580</td>\n",
       "</tr>\n",
       "</table>\n",
       "<table class=\"simpletable\">\n",
       "<tr>\n",
       "  <th>Omnibus:</th>       <td> 3.905</td> <th>  Durbin-Watson:     </th> <td>   1.907</td>\n",
       "</tr>\n",
       "<tr>\n",
       "  <th>Prob(Omnibus):</th> <td> 0.142</td> <th>  Jarque-Bera (JB):  </th> <td>   2.796</td>\n",
       "</tr>\n",
       "<tr>\n",
       "  <th>Skew:</th>          <td> 0.599</td> <th>  Prob(JB):          </th> <td>   0.247</td>\n",
       "</tr>\n",
       "<tr>\n",
       "  <th>Kurtosis:</th>      <td> 3.405</td> <th>  Cond. No.          </th> <td>    11.9</td>\n",
       "</tr>\n",
       "</table><br/><br/>Notes:<br/>[1] Standard Errors are heteroscedasticity and autocorrelation robust (HAC) using 1 lags and without small sample correction"
      ],
      "text/plain": [
       "<class 'statsmodels.iolib.summary.Summary'>\n",
       "\"\"\"\n",
       "                                    OLS Regression Results                                   \n",
       "=============================================================================================\n",
       "Dep. Variable:     standardize(total_sleep_duration)   R-squared:                       0.774\n",
       "Model:                                           OLS   Adj. R-squared:                  0.701\n",
       "Method:                                Least Squares   F-statistic:                     38.73\n",
       "Date:                               Sat, 17 Jul 2021   Prob (F-statistic):           9.89e-15\n",
       "Time:                                       15:37:56   Log-Likelihood:                -28.354\n",
       "No. Observations:                                 42   AIC:                             78.71\n",
       "Df Residuals:                                     31   BIC:                             97.82\n",
       "Df Model:                                         10                                         \n",
       "Covariance Type:                                 HAC                                         \n",
       "=============================================================================================================================\n",
       "                                                                coef    std err          z      P>|z|      [0.025      0.975]\n",
       "-----------------------------------------------------------------------------------------------------------------------------\n",
       "Intercept                                                    -0.0183      0.316     -0.058      0.954      -0.638       0.602\n",
       "C(treatment, Treatment(reference='control'))[T.magnesium]    -0.3151      0.124     -2.545      0.011      -0.558      -0.072\n",
       "C(day_of_week)[T.Monday]                                      0.1638      0.356      0.460      0.645      -0.534       0.861\n",
       "C(day_of_week)[T.Saturday]                                    1.1831      0.295      4.017      0.000       0.606       1.760\n",
       "C(day_of_week)[T.Sunday]                                      0.2131      0.326      0.653      0.514      -0.427       0.853\n",
       "C(day_of_week)[T.Thursday]                                   -0.2582      0.391     -0.661      0.509      -1.024       0.508\n",
       "C(day_of_week)[T.Tuesday]                                    -0.4781      0.368     -1.300      0.194      -1.199       0.243\n",
       "C(day_of_week)[T.Wednesday]                                   0.1598      0.321      0.497      0.619      -0.470       0.789\n",
       "standardize(sleep_start_time)                                -0.9517      0.073    -13.086      0.000      -1.094      -0.809\n",
       "standardize(steps)                                           -0.3344      0.180     -1.854      0.064      -0.688       0.019\n",
       "standardize(calories)                                         0.2325      0.177      1.310      0.190      -0.115       0.580\n",
       "==============================================================================\n",
       "Omnibus:                        3.905   Durbin-Watson:                   1.907\n",
       "Prob(Omnibus):                  0.142   Jarque-Bera (JB):                2.796\n",
       "Skew:                           0.599   Prob(JB):                        0.247\n",
       "Kurtosis:                       3.405   Cond. No.                         11.9\n",
       "==============================================================================\n",
       "\n",
       "Notes:\n",
       "[1] Standard Errors are heteroscedasticity and autocorrelation robust (HAC) using 1 lags and without small sample correction\n",
       "\"\"\""
      ]
     },
     "metadata": {},
     "output_type": "display_data"
    },
    {
     "data": {
      "text/markdown": [
       "### Results for rem sleep duration"
      ],
      "text/plain": [
       "<IPython.core.display.Markdown object>"
      ]
     },
     "metadata": {},
     "output_type": "display_data"
    },
    {
     "data": {
      "text/markdown": [
       "The effect on rem sleep duration was not statistically signficant."
      ],
      "text/plain": [
       "<IPython.core.display.Markdown object>"
      ]
     },
     "metadata": {},
     "output_type": "display_data"
    },
    {
     "data": {
      "text/html": [
       "<table class=\"simpletable\">\n",
       "<caption>OLS Regression Results</caption>\n",
       "<tr>\n",
       "  <th>Dep. Variable:</th>    <td>standardize(rem_sleep_duration)</td> <th>  R-squared:         </th> <td>   0.527</td>\n",
       "</tr>\n",
       "<tr>\n",
       "  <th>Model:</th>                          <td>OLS</td>               <th>  Adj. R-squared:    </th> <td>   0.374</td>\n",
       "</tr>\n",
       "<tr>\n",
       "  <th>Method:</th>                    <td>Least Squares</td>          <th>  F-statistic:       </th> <td>   9.587</td>\n",
       "</tr>\n",
       "<tr>\n",
       "  <th>Date:</th>                    <td>Sat, 17 Jul 2021</td>         <th>  Prob (F-statistic):</th> <td>5.00e-07</td>\n",
       "</tr>\n",
       "<tr>\n",
       "  <th>Time:</th>                        <td>15:37:56</td>             <th>  Log-Likelihood:    </th> <td> -43.895</td>\n",
       "</tr>\n",
       "<tr>\n",
       "  <th>No. Observations:</th>             <td>    42</td>              <th>  AIC:               </th> <td>   109.8</td>\n",
       "</tr>\n",
       "<tr>\n",
       "  <th>Df Residuals:</th>                 <td>    31</td>              <th>  BIC:               </th> <td>   128.9</td>\n",
       "</tr>\n",
       "<tr>\n",
       "  <th>Df Model:</th>                     <td>    10</td>              <th>                     </th>     <td> </td>   \n",
       "</tr>\n",
       "<tr>\n",
       "  <th>Covariance Type:</th>                <td>HAC</td>               <th>                     </th>     <td> </td>   \n",
       "</tr>\n",
       "</table>\n",
       "<table class=\"simpletable\">\n",
       "<tr>\n",
       "                              <td></td>                                 <th>coef</th>     <th>std err</th>      <th>z</th>      <th>P>|z|</th>  <th>[0.025</th>    <th>0.975]</th>  \n",
       "</tr>\n",
       "<tr>\n",
       "  <th>Intercept</th>                                                 <td>    0.8529</td> <td>    0.372</td> <td>    2.294</td> <td> 0.022</td> <td>    0.124</td> <td>    1.582</td>\n",
       "</tr>\n",
       "<tr>\n",
       "  <th>C(treatment, Treatment(reference='control'))[T.magnesium]</th> <td>   -0.2428</td> <td>    0.212</td> <td>   -1.144</td> <td> 0.253</td> <td>   -0.659</td> <td>    0.173</td>\n",
       "</tr>\n",
       "<tr>\n",
       "  <th>C(day_of_week)[T.Monday]</th>                                  <td>   -1.0019</td> <td>    0.507</td> <td>   -1.978</td> <td> 0.048</td> <td>   -1.995</td> <td>   -0.009</td>\n",
       "</tr>\n",
       "<tr>\n",
       "  <th>C(day_of_week)[T.Saturday]</th>                                <td>    0.0652</td> <td>    0.458</td> <td>    0.142</td> <td> 0.887</td> <td>   -0.833</td> <td>    0.963</td>\n",
       "</tr>\n",
       "<tr>\n",
       "  <th>C(day_of_week)[T.Sunday]</th>                                  <td>   -0.6404</td> <td>    0.501</td> <td>   -1.279</td> <td> 0.201</td> <td>   -1.622</td> <td>    0.341</td>\n",
       "</tr>\n",
       "<tr>\n",
       "  <th>C(day_of_week)[T.Thursday]</th>                                <td>   -1.0826</td> <td>    0.407</td> <td>   -2.662</td> <td> 0.008</td> <td>   -1.880</td> <td>   -0.286</td>\n",
       "</tr>\n",
       "<tr>\n",
       "  <th>C(day_of_week)[T.Tuesday]</th>                                 <td>   -1.3899</td> <td>    0.441</td> <td>   -3.150</td> <td> 0.002</td> <td>   -2.255</td> <td>   -0.525</td>\n",
       "</tr>\n",
       "<tr>\n",
       "  <th>C(day_of_week)[T.Wednesday]</th>                               <td>   -1.0941</td> <td>    0.461</td> <td>   -2.374</td> <td> 0.018</td> <td>   -1.997</td> <td>   -0.191</td>\n",
       "</tr>\n",
       "<tr>\n",
       "  <th>standardize(sleep_start_time)</th>                             <td>   -0.8058</td> <td>    0.104</td> <td>   -7.721</td> <td> 0.000</td> <td>   -1.010</td> <td>   -0.601</td>\n",
       "</tr>\n",
       "<tr>\n",
       "  <th>standardize(steps)</th>                                        <td>    0.2030</td> <td>    0.330</td> <td>    0.616</td> <td> 0.538</td> <td>   -0.443</td> <td>    0.849</td>\n",
       "</tr>\n",
       "<tr>\n",
       "  <th>standardize(calories)</th>                                     <td>   -0.2598</td> <td>    0.282</td> <td>   -0.922</td> <td> 0.357</td> <td>   -0.812</td> <td>    0.293</td>\n",
       "</tr>\n",
       "</table>\n",
       "<table class=\"simpletable\">\n",
       "<tr>\n",
       "  <th>Omnibus:</th>       <td> 2.536</td> <th>  Durbin-Watson:     </th> <td>   1.712</td>\n",
       "</tr>\n",
       "<tr>\n",
       "  <th>Prob(Omnibus):</th> <td> 0.281</td> <th>  Jarque-Bera (JB):  </th> <td>   1.381</td>\n",
       "</tr>\n",
       "<tr>\n",
       "  <th>Skew:</th>          <td> 0.032</td> <th>  Prob(JB):          </th> <td>   0.501</td>\n",
       "</tr>\n",
       "<tr>\n",
       "  <th>Kurtosis:</th>      <td> 2.114</td> <th>  Cond. No.          </th> <td>    11.9</td>\n",
       "</tr>\n",
       "</table><br/><br/>Notes:<br/>[1] Standard Errors are heteroscedasticity and autocorrelation robust (HAC) using 1 lags and without small sample correction"
      ],
      "text/plain": [
       "<class 'statsmodels.iolib.summary.Summary'>\n",
       "\"\"\"\n",
       "                                   OLS Regression Results                                  \n",
       "===========================================================================================\n",
       "Dep. Variable:     standardize(rem_sleep_duration)   R-squared:                       0.527\n",
       "Model:                                         OLS   Adj. R-squared:                  0.374\n",
       "Method:                              Least Squares   F-statistic:                     9.587\n",
       "Date:                             Sat, 17 Jul 2021   Prob (F-statistic):           5.00e-07\n",
       "Time:                                     15:37:56   Log-Likelihood:                -43.895\n",
       "No. Observations:                               42   AIC:                             109.8\n",
       "Df Residuals:                                   31   BIC:                             128.9\n",
       "Df Model:                                       10                                         \n",
       "Covariance Type:                               HAC                                         \n",
       "=============================================================================================================================\n",
       "                                                                coef    std err          z      P>|z|      [0.025      0.975]\n",
       "-----------------------------------------------------------------------------------------------------------------------------\n",
       "Intercept                                                     0.8529      0.372      2.294      0.022       0.124       1.582\n",
       "C(treatment, Treatment(reference='control'))[T.magnesium]    -0.2428      0.212     -1.144      0.253      -0.659       0.173\n",
       "C(day_of_week)[T.Monday]                                     -1.0019      0.507     -1.978      0.048      -1.995      -0.009\n",
       "C(day_of_week)[T.Saturday]                                    0.0652      0.458      0.142      0.887      -0.833       0.963\n",
       "C(day_of_week)[T.Sunday]                                     -0.6404      0.501     -1.279      0.201      -1.622       0.341\n",
       "C(day_of_week)[T.Thursday]                                   -1.0826      0.407     -2.662      0.008      -1.880      -0.286\n",
       "C(day_of_week)[T.Tuesday]                                    -1.3899      0.441     -3.150      0.002      -2.255      -0.525\n",
       "C(day_of_week)[T.Wednesday]                                  -1.0941      0.461     -2.374      0.018      -1.997      -0.191\n",
       "standardize(sleep_start_time)                                -0.8058      0.104     -7.721      0.000      -1.010      -0.601\n",
       "standardize(steps)                                            0.2030      0.330      0.616      0.538      -0.443       0.849\n",
       "standardize(calories)                                        -0.2598      0.282     -0.922      0.357      -0.812       0.293\n",
       "==============================================================================\n",
       "Omnibus:                        2.536   Durbin-Watson:                   1.712\n",
       "Prob(Omnibus):                  0.281   Jarque-Bera (JB):                1.381\n",
       "Skew:                           0.032   Prob(JB):                        0.501\n",
       "Kurtosis:                       2.114   Cond. No.                         11.9\n",
       "==============================================================================\n",
       "\n",
       "Notes:\n",
       "[1] Standard Errors are heteroscedasticity and autocorrelation robust (HAC) using 1 lags and without small sample correction\n",
       "\"\"\""
      ]
     },
     "metadata": {},
     "output_type": "display_data"
    },
    {
     "data": {
      "text/markdown": [
       "### Results for deep sleep duration"
      ],
      "text/plain": [
       "<IPython.core.display.Markdown object>"
      ]
     },
     "metadata": {},
     "output_type": "display_data"
    },
    {
     "data": {
      "text/markdown": [
       "The effect on deep sleep duration was not statistically signficant."
      ],
      "text/plain": [
       "<IPython.core.display.Markdown object>"
      ]
     },
     "metadata": {},
     "output_type": "display_data"
    },
    {
     "data": {
      "text/html": [
       "<table class=\"simpletable\">\n",
       "<caption>OLS Regression Results</caption>\n",
       "<tr>\n",
       "  <th>Dep. Variable:</th>    <td>standardize(deep_sleep_duration)</td> <th>  R-squared:         </th> <td>   0.427</td>\n",
       "</tr>\n",
       "<tr>\n",
       "  <th>Model:</th>                           <td>OLS</td>               <th>  Adj. R-squared:    </th> <td>   0.243</td>\n",
       "</tr>\n",
       "<tr>\n",
       "  <th>Method:</th>                     <td>Least Squares</td>          <th>  F-statistic:       </th> <td>   5.566</td>\n",
       "</tr>\n",
       "<tr>\n",
       "  <th>Date:</th>                     <td>Sat, 17 Jul 2021</td>         <th>  Prob (F-statistic):</th> <td>0.000102</td>\n",
       "</tr>\n",
       "<tr>\n",
       "  <th>Time:</th>                         <td>15:37:56</td>             <th>  Log-Likelihood:    </th> <td> -47.888</td>\n",
       "</tr>\n",
       "<tr>\n",
       "  <th>No. Observations:</th>              <td>    42</td>              <th>  AIC:               </th> <td>   117.8</td>\n",
       "</tr>\n",
       "<tr>\n",
       "  <th>Df Residuals:</th>                  <td>    31</td>              <th>  BIC:               </th> <td>   136.9</td>\n",
       "</tr>\n",
       "<tr>\n",
       "  <th>Df Model:</th>                      <td>    10</td>              <th>                     </th>     <td> </td>   \n",
       "</tr>\n",
       "<tr>\n",
       "  <th>Covariance Type:</th>                 <td>HAC</td>               <th>                     </th>     <td> </td>   \n",
       "</tr>\n",
       "</table>\n",
       "<table class=\"simpletable\">\n",
       "<tr>\n",
       "                              <td></td>                                 <th>coef</th>     <th>std err</th>      <th>z</th>      <th>P>|z|</th>  <th>[0.025</th>    <th>0.975]</th>  \n",
       "</tr>\n",
       "<tr>\n",
       "  <th>Intercept</th>                                                 <td>    0.1395</td> <td>    0.150</td> <td>    0.927</td> <td> 0.354</td> <td>   -0.155</td> <td>    0.434</td>\n",
       "</tr>\n",
       "<tr>\n",
       "  <th>C(treatment, Treatment(reference='control'))[T.magnesium]</th> <td>    0.2052</td> <td>    0.244</td> <td>    0.841</td> <td> 0.401</td> <td>   -0.273</td> <td>    0.684</td>\n",
       "</tr>\n",
       "<tr>\n",
       "  <th>C(day_of_week)[T.Monday]</th>                                  <td>   -0.3509</td> <td>    0.311</td> <td>   -1.128</td> <td> 0.259</td> <td>   -0.961</td> <td>    0.259</td>\n",
       "</tr>\n",
       "<tr>\n",
       "  <th>C(day_of_week)[T.Saturday]</th>                                <td>    0.4595</td> <td>    0.396</td> <td>    1.161</td> <td> 0.245</td> <td>   -0.316</td> <td>    1.235</td>\n",
       "</tr>\n",
       "<tr>\n",
       "  <th>C(day_of_week)[T.Sunday]</th>                                  <td>   -0.6768</td> <td>    0.273</td> <td>   -2.477</td> <td> 0.013</td> <td>   -1.212</td> <td>   -0.141</td>\n",
       "</tr>\n",
       "<tr>\n",
       "  <th>C(day_of_week)[T.Thursday]</th>                                <td>   -0.8250</td> <td>    0.416</td> <td>   -1.983</td> <td> 0.047</td> <td>   -1.641</td> <td>   -0.010</td>\n",
       "</tr>\n",
       "<tr>\n",
       "  <th>C(day_of_week)[T.Tuesday]</th>                                 <td>   -0.3442</td> <td>    0.493</td> <td>   -0.698</td> <td> 0.485</td> <td>   -1.310</td> <td>    0.622</td>\n",
       "</tr>\n",
       "<tr>\n",
       "  <th>C(day_of_week)[T.Wednesday]</th>                               <td>    0.1425</td> <td>    0.271</td> <td>    0.527</td> <td> 0.598</td> <td>   -0.388</td> <td>    0.673</td>\n",
       "</tr>\n",
       "<tr>\n",
       "  <th>standardize(sleep_start_time)</th>                             <td>   -0.6352</td> <td>    0.130</td> <td>   -4.889</td> <td> 0.000</td> <td>   -0.890</td> <td>   -0.381</td>\n",
       "</tr>\n",
       "<tr>\n",
       "  <th>standardize(steps)</th>                                        <td>   -0.0316</td> <td>    0.225</td> <td>   -0.140</td> <td> 0.889</td> <td>   -0.473</td> <td>    0.410</td>\n",
       "</tr>\n",
       "<tr>\n",
       "  <th>standardize(calories)</th>                                     <td>    0.2189</td> <td>    0.229</td> <td>    0.957</td> <td> 0.339</td> <td>   -0.230</td> <td>    0.668</td>\n",
       "</tr>\n",
       "</table>\n",
       "<table class=\"simpletable\">\n",
       "<tr>\n",
       "  <th>Omnibus:</th>       <td> 1.000</td> <th>  Durbin-Watson:     </th> <td>   1.655</td>\n",
       "</tr>\n",
       "<tr>\n",
       "  <th>Prob(Omnibus):</th> <td> 0.606</td> <th>  Jarque-Bera (JB):  </th> <td>   0.840</td>\n",
       "</tr>\n",
       "<tr>\n",
       "  <th>Skew:</th>          <td> 0.335</td> <th>  Prob(JB):          </th> <td>   0.657</td>\n",
       "</tr>\n",
       "<tr>\n",
       "  <th>Kurtosis:</th>      <td> 2.824</td> <th>  Cond. No.          </th> <td>    11.9</td>\n",
       "</tr>\n",
       "</table><br/><br/>Notes:<br/>[1] Standard Errors are heteroscedasticity and autocorrelation robust (HAC) using 1 lags and without small sample correction"
      ],
      "text/plain": [
       "<class 'statsmodels.iolib.summary.Summary'>\n",
       "\"\"\"\n",
       "                                   OLS Regression Results                                   \n",
       "============================================================================================\n",
       "Dep. Variable:     standardize(deep_sleep_duration)   R-squared:                       0.427\n",
       "Model:                                          OLS   Adj. R-squared:                  0.243\n",
       "Method:                               Least Squares   F-statistic:                     5.566\n",
       "Date:                              Sat, 17 Jul 2021   Prob (F-statistic):           0.000102\n",
       "Time:                                      15:37:56   Log-Likelihood:                -47.888\n",
       "No. Observations:                                42   AIC:                             117.8\n",
       "Df Residuals:                                    31   BIC:                             136.9\n",
       "Df Model:                                        10                                         \n",
       "Covariance Type:                                HAC                                         \n",
       "=============================================================================================================================\n",
       "                                                                coef    std err          z      P>|z|      [0.025      0.975]\n",
       "-----------------------------------------------------------------------------------------------------------------------------\n",
       "Intercept                                                     0.1395      0.150      0.927      0.354      -0.155       0.434\n",
       "C(treatment, Treatment(reference='control'))[T.magnesium]     0.2052      0.244      0.841      0.401      -0.273       0.684\n",
       "C(day_of_week)[T.Monday]                                     -0.3509      0.311     -1.128      0.259      -0.961       0.259\n",
       "C(day_of_week)[T.Saturday]                                    0.4595      0.396      1.161      0.245      -0.316       1.235\n",
       "C(day_of_week)[T.Sunday]                                     -0.6768      0.273     -2.477      0.013      -1.212      -0.141\n",
       "C(day_of_week)[T.Thursday]                                   -0.8250      0.416     -1.983      0.047      -1.641      -0.010\n",
       "C(day_of_week)[T.Tuesday]                                    -0.3442      0.493     -0.698      0.485      -1.310       0.622\n",
       "C(day_of_week)[T.Wednesday]                                   0.1425      0.271      0.527      0.598      -0.388       0.673\n",
       "standardize(sleep_start_time)                                -0.6352      0.130     -4.889      0.000      -0.890      -0.381\n",
       "standardize(steps)                                           -0.0316      0.225     -0.140      0.889      -0.473       0.410\n",
       "standardize(calories)                                         0.2189      0.229      0.957      0.339      -0.230       0.668\n",
       "==============================================================================\n",
       "Omnibus:                        1.000   Durbin-Watson:                   1.655\n",
       "Prob(Omnibus):                  0.606   Jarque-Bera (JB):                0.840\n",
       "Skew:                           0.335   Prob(JB):                        0.657\n",
       "Kurtosis:                       2.824   Cond. No.                         11.9\n",
       "==============================================================================\n",
       "\n",
       "Notes:\n",
       "[1] Standard Errors are heteroscedasticity and autocorrelation robust (HAC) using 1 lags and without small sample correction\n",
       "\"\"\""
      ]
     },
     "metadata": {},
     "output_type": "display_data"
    },
    {
     "data": {
      "application/javascript": [
       "\n",
       "            setTimeout(function() {\n",
       "                var nbb_cell_id = 12;\n",
       "                var nbb_unformatted_code = \"for dependent_variable in model[\\\"dependent_variables\\\"]:\\n    display(Markdown(f\\\"### Results for {dependent_variable.replace('_', ' ')}\\\"))\\n    formula = ols.build_formula(\\n        df, dependent_variable, treatment, model[\\\"control_variables\\\"]\\n    )\\n    result = ols.fit_model(df[df[dependent_variable].notnull()], formula)\\n    display(Markdown(ols.result_to_english(result, dependent_variable, treatment)))\\n    display(result.summary())\";\n",
       "                var nbb_formatted_code = \"for dependent_variable in model[\\\"dependent_variables\\\"]:\\n    display(Markdown(f\\\"### Results for {dependent_variable.replace('_', ' ')}\\\"))\\n    formula = ols.build_formula(\\n        df, dependent_variable, treatment, model[\\\"control_variables\\\"]\\n    )\\n    result = ols.fit_model(df[df[dependent_variable].notnull()], formula)\\n    display(Markdown(ols.result_to_english(result, dependent_variable, treatment)))\\n    display(result.summary())\";\n",
       "                var nbb_cells = Jupyter.notebook.get_cells();\n",
       "                for (var i = 0; i < nbb_cells.length; ++i) {\n",
       "                    if (nbb_cells[i].input_prompt_number == nbb_cell_id) {\n",
       "                        if (nbb_cells[i].get_text() == nbb_unformatted_code) {\n",
       "                             nbb_cells[i].set_text(nbb_formatted_code);\n",
       "                        }\n",
       "                        break;\n",
       "                    }\n",
       "                }\n",
       "            }, 500);\n",
       "            "
      ],
      "text/plain": [
       "<IPython.core.display.Javascript object>"
      ]
     },
     "metadata": {},
     "output_type": "display_data"
    }
   ],
   "source": [
    "for dependent_variable in model[\"dependent_variables\"]:\n",
    "    display(Markdown(f\"### Results for {dependent_variable.replace('_', ' ')}\"))\n",
    "    formula = ols.build_formula(\n",
    "        df, dependent_variable, treatment, model[\"control_variables\"]\n",
    "    )\n",
    "    result = ols.fit_model(df[df[dependent_variable].notnull()], formula)\n",
    "    display(Markdown(ols.result_to_english(result, dependent_variable, treatment)))\n",
    "    display(result.summary())"
   ]
  }
 ],
 "metadata": {
  "celltoolbar": "Tags",
  "jupytext": {
   "formats": "ipynb,md"
  },
  "kernelspec": {
   "display_name": "Python 3",
   "language": "python",
   "name": "python3"
  },
  "language_info": {
   "codemirror_mode": {
    "name": "ipython",
    "version": 3
   },
   "file_extension": ".py",
   "mimetype": "text/x-python",
   "name": "python",
   "nbconvert_exporter": "python",
   "pygments_lexer": "ipython3",
   "version": "3.7.5"
  }
 },
 "nbformat": 4,
 "nbformat_minor": 5
}
